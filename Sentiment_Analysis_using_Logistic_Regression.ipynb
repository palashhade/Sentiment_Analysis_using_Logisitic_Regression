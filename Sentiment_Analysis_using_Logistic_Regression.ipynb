{
  "cells": [
    {
      "cell_type": "code",
      "execution_count": null,
      "metadata": {
        "colab": {
          "base_uri": "https://localhost:8080/"
        },
        "id": "2BkLYZJbYSSF",
        "outputId": "5fb88c22-f416-471f-c510-2d35d3eb0f00"
      },
      "outputs": [
        {
          "output_type": "stream",
          "name": "stdout",
          "text": [
            "Requirement already satisfied: kaggle in /usr/local/lib/python3.10/dist-packages (1.5.16)\n",
            "Requirement already satisfied: six>=1.10 in /usr/local/lib/python3.10/dist-packages (from kaggle) (1.16.0)\n",
            "Requirement already satisfied: certifi in /usr/local/lib/python3.10/dist-packages (from kaggle) (2024.2.2)\n",
            "Requirement already satisfied: python-dateutil in /usr/local/lib/python3.10/dist-packages (from kaggle) (2.8.2)\n",
            "Requirement already satisfied: requests in /usr/local/lib/python3.10/dist-packages (from kaggle) (2.31.0)\n",
            "Requirement already satisfied: tqdm in /usr/local/lib/python3.10/dist-packages (from kaggle) (4.66.2)\n",
            "Requirement already satisfied: python-slugify in /usr/local/lib/python3.10/dist-packages (from kaggle) (8.0.4)\n",
            "Requirement already satisfied: urllib3 in /usr/local/lib/python3.10/dist-packages (from kaggle) (2.0.7)\n",
            "Requirement already satisfied: bleach in /usr/local/lib/python3.10/dist-packages (from kaggle) (6.1.0)\n",
            "Requirement already satisfied: webencodings in /usr/local/lib/python3.10/dist-packages (from bleach->kaggle) (0.5.1)\n",
            "Requirement already satisfied: text-unidecode>=1.3 in /usr/local/lib/python3.10/dist-packages (from python-slugify->kaggle) (1.3)\n",
            "Requirement already satisfied: charset-normalizer<4,>=2 in /usr/local/lib/python3.10/dist-packages (from requests->kaggle) (3.3.2)\n",
            "Requirement already satisfied: idna<4,>=2.5 in /usr/local/lib/python3.10/dist-packages (from requests->kaggle) (3.6)\n"
          ]
        }
      ],
      "source": [
        "pip install kaggle"
      ]
    },
    {
      "cell_type": "code",
      "execution_count": 1,
      "metadata": {
        "id": "LonZjWi3zS01"
      },
      "outputs": [],
      "source": [
        "!mkdir -p ~/.kaggle"
      ]
    },
    {
      "cell_type": "code",
      "execution_count": 2,
      "metadata": {
        "id": "W0eqCr5NYwHy"
      },
      "outputs": [],
      "source": [
        "#Importing the kaggle dataset\n",
        "#Uploading the kaggle.json file\n",
        "#Setting up the kaggle api\n",
        "\n",
        "!cp kaggle.json ~/.kaggle/\n",
        "!chmod 600 ~/.kaggle/kaggle.json\n"
      ]
    },
    {
      "cell_type": "code",
      "execution_count": 3,
      "metadata": {
        "colab": {
          "base_uri": "https://localhost:8080/"
        },
        "id": "K7_TTJ-AZcs-",
        "outputId": "909d897e-7842-461a-e58d-5cff277b7820"
      },
      "outputs": [
        {
          "output_type": "stream",
          "name": "stdout",
          "text": [
            "401 - Unauthorized - Unauthenticated\n"
          ]
        }
      ],
      "source": [
        "#Importing the Twitter Sentiment Dataset\n",
        "# API to fetch the dataset from kaggle.\n",
        "# !kaggle datasets download -d kazanova/sentiment140\n",
        "!kaggle datasets download -d yasserh/imdb-movie-ratings-sentiment-analysis\n",
        "#!mark is used to run shell commands"
      ]
    },
    {
      "cell_type": "code",
      "execution_count": 4,
      "metadata": {
        "colab": {
          "base_uri": "https://localhost:8080/",
          "height": 332
        },
        "id": "swjnAIj9a4Nj",
        "outputId": "5532331e-eae4-42fd-ad7a-eb044d378eb5"
      },
      "outputs": [
        {
          "output_type": "error",
          "ename": "FileNotFoundError",
          "evalue": "[Errno 2] No such file or directory: '/content/imdb-movie-ratings-sentiment-analysis.zip'",
          "traceback": [
            "\u001b[0;31m---------------------------------------------------------------------------\u001b[0m",
            "\u001b[0;31mFileNotFoundError\u001b[0m                         Traceback (most recent call last)",
            "\u001b[0;32m<ipython-input-4-4b7bcf9f2c18>\u001b[0m in \u001b[0;36m<cell line: 6>\u001b[0;34m()\u001b[0m\n\u001b[1;32m      4\u001b[0m \u001b[0mdata\u001b[0m \u001b[0;34m=\u001b[0m \u001b[0;34m'/content/imdb-movie-ratings-sentiment-analysis.zip'\u001b[0m\u001b[0;34m\u001b[0m\u001b[0;34m\u001b[0m\u001b[0m\n\u001b[1;32m      5\u001b[0m \u001b[0;34m\u001b[0m\u001b[0m\n\u001b[0;32m----> 6\u001b[0;31m \u001b[0;32mwith\u001b[0m \u001b[0mZipFile\u001b[0m\u001b[0;34m(\u001b[0m\u001b[0mdata\u001b[0m\u001b[0;34m,\u001b[0m\u001b[0;34m'r'\u001b[0m\u001b[0;34m)\u001b[0m \u001b[0;32mas\u001b[0m \u001b[0mzip\u001b[0m\u001b[0;34m:\u001b[0m\u001b[0;34m\u001b[0m\u001b[0;34m\u001b[0m\u001b[0m\n\u001b[0m\u001b[1;32m      7\u001b[0m   \u001b[0mzip\u001b[0m\u001b[0;34m.\u001b[0m\u001b[0mextractall\u001b[0m\u001b[0;34m(\u001b[0m\u001b[0;34m)\u001b[0m\u001b[0;34m\u001b[0m\u001b[0;34m\u001b[0m\u001b[0m\n\u001b[1;32m      8\u001b[0m   \u001b[0mprint\u001b[0m\u001b[0;34m(\u001b[0m\u001b[0;34m'The dataset is extracted.'\u001b[0m\u001b[0;34m)\u001b[0m\u001b[0;34m\u001b[0m\u001b[0;34m\u001b[0m\u001b[0m\n",
            "\u001b[0;32m/usr/lib/python3.10/zipfile.py\u001b[0m in \u001b[0;36m__init__\u001b[0;34m(self, file, mode, compression, allowZip64, compresslevel, strict_timestamps)\u001b[0m\n\u001b[1;32m   1249\u001b[0m             \u001b[0;32mwhile\u001b[0m \u001b[0;32mTrue\u001b[0m\u001b[0;34m:\u001b[0m\u001b[0;34m\u001b[0m\u001b[0;34m\u001b[0m\u001b[0m\n\u001b[1;32m   1250\u001b[0m                 \u001b[0;32mtry\u001b[0m\u001b[0;34m:\u001b[0m\u001b[0;34m\u001b[0m\u001b[0;34m\u001b[0m\u001b[0m\n\u001b[0;32m-> 1251\u001b[0;31m                     \u001b[0mself\u001b[0m\u001b[0;34m.\u001b[0m\u001b[0mfp\u001b[0m \u001b[0;34m=\u001b[0m \u001b[0mio\u001b[0m\u001b[0;34m.\u001b[0m\u001b[0mopen\u001b[0m\u001b[0;34m(\u001b[0m\u001b[0mfile\u001b[0m\u001b[0;34m,\u001b[0m \u001b[0mfilemode\u001b[0m\u001b[0;34m)\u001b[0m\u001b[0;34m\u001b[0m\u001b[0;34m\u001b[0m\u001b[0m\n\u001b[0m\u001b[1;32m   1252\u001b[0m                 \u001b[0;32mexcept\u001b[0m \u001b[0mOSError\u001b[0m\u001b[0;34m:\u001b[0m\u001b[0;34m\u001b[0m\u001b[0;34m\u001b[0m\u001b[0m\n\u001b[1;32m   1253\u001b[0m                     \u001b[0;32mif\u001b[0m \u001b[0mfilemode\u001b[0m \u001b[0;32min\u001b[0m \u001b[0mmodeDict\u001b[0m\u001b[0;34m:\u001b[0m\u001b[0;34m\u001b[0m\u001b[0;34m\u001b[0m\u001b[0m\n",
            "\u001b[0;31mFileNotFoundError\u001b[0m: [Errno 2] No such file or directory: '/content/imdb-movie-ratings-sentiment-analysis.zip'"
          ]
        }
      ],
      "source": [
        "#extracting the zip file to directory, remember that\n",
        "#csv already exists inside zip file.\n",
        "from zipfile import ZipFile\n",
        "data = '/content/imdb-movie-ratings-sentiment-analysis.zip'\n",
        "\n",
        "with ZipFile(data,'r') as zip:\n",
        "  zip.extractall()\n",
        "  print('The dataset is extracted.')\n"
      ]
    },
    {
      "cell_type": "markdown",
      "metadata": {
        "id": "xXu0pblteQj_"
      },
      "source": [
        "Importing and installing the dependencies."
      ]
    },
    {
      "cell_type": "code",
      "execution_count": null,
      "metadata": {
        "id": "Z8UDaUolbj3m"
      },
      "outputs": [],
      "source": [
        "#Importing and installing the dependencies.\n",
        "import numpy as np\n",
        "import pandas as pd\n",
        "#used to create dataframes, structured table using pandas\n",
        "import re\n",
        "#Used for pattern matching re library\n",
        "from nltk.corpus import stopwords\n",
        "from nltk.stem.porter import PorterStemmer\n",
        "#Used for stemming the words and nltk library is for nlp.\n",
        "from sklearn.feature_extraction.text import TfidfVectorizer\n",
        "#Used to convert textual data to numertical data Vectorizer\n",
        "from sklearn.model_selection import train_test_split\n",
        "from sklearn.linear_model import LogisticRegression\n",
        "#We are using logistic regression\n",
        "from sklearn.metrics import accuracy_score"
      ]
    },
    {
      "cell_type": "code",
      "execution_count": null,
      "metadata": {
        "colab": {
          "base_uri": "https://localhost:8080/"
        },
        "id": "ZTRnQzjedTDm",
        "outputId": "85e002d6-21f8-4f4d-ed23-82eff2484742"
      },
      "outputs": [
        {
          "output_type": "stream",
          "name": "stdout",
          "text": [
            "['i', 'me', 'my', 'myself', 'we', 'our', 'ours', 'ourselves', 'you', \"you're\", \"you've\", \"you'll\", \"you'd\", 'your', 'yours', 'yourself', 'yourselves', 'he', 'him', 'his', 'himself', 'she', \"she's\", 'her', 'hers', 'herself', 'it', \"it's\", 'its', 'itself', 'they', 'them', 'their', 'theirs', 'themselves', 'what', 'which', 'who', 'whom', 'this', 'that', \"that'll\", 'these', 'those', 'am', 'is', 'are', 'was', 'were', 'be', 'been', 'being', 'have', 'has', 'had', 'having', 'do', 'does', 'did', 'doing', 'a', 'an', 'the', 'and', 'but', 'if', 'or', 'because', 'as', 'until', 'while', 'of', 'at', 'by', 'for', 'with', 'about', 'against', 'between', 'into', 'through', 'during', 'before', 'after', 'above', 'below', 'to', 'from', 'up', 'down', 'in', 'out', 'on', 'off', 'over', 'under', 'again', 'further', 'then', 'once', 'here', 'there', 'when', 'where', 'why', 'how', 'all', 'any', 'both', 'each', 'few', 'more', 'most', 'other', 'some', 'such', 'no', 'nor', 'not', 'only', 'own', 'same', 'so', 'than', 'too', 'very', 's', 't', 'can', 'will', 'just', 'don', \"don't\", 'should', \"should've\", 'now', 'd', 'll', 'm', 'o', 're', 've', 'y', 'ain', 'aren', \"aren't\", 'couldn', \"couldn't\", 'didn', \"didn't\", 'doesn', \"doesn't\", 'hadn', \"hadn't\", 'hasn', \"hasn't\", 'haven', \"haven't\", 'isn', \"isn't\", 'ma', 'mightn', \"mightn't\", 'mustn', \"mustn't\", 'needn', \"needn't\", 'shan', \"shan't\", 'shouldn', \"shouldn't\", 'wasn', \"wasn't\", 'weren', \"weren't\", 'won', \"won't\", 'wouldn', \"wouldn't\"]\n"
          ]
        },
        {
          "output_type": "stream",
          "name": "stderr",
          "text": [
            "[nltk_data] Downloading package stopwords to /root/nltk_data...\n",
            "[nltk_data]   Unzipping corpora/stopwords.zip.\n"
          ]
        }
      ],
      "source": [
        "import nltk\n",
        "nltk.download('stopwords')\n",
        "print(stopwords.words('english'))\n",
        "#Stopwords are the words which don't have any influential meaning.\n",
        "#These words are not required for out processing.\n",
        "#Removing the stopwords as they are non-influential.\n"
      ]
    },
    {
      "cell_type": "markdown",
      "metadata": {
        "id": "ZxykmeXaeOIL"
      },
      "source": [
        "Data Processing"
      ]
    },
    {
      "cell_type": "code",
      "execution_count": null,
      "metadata": {
        "id": "FOisNEaudep9"
      },
      "outputs": [],
      "source": [
        "#Data Processing\n",
        "#loading the data from csv file to pandas dataframe.\n",
        "t_data = pd.read_csv('/content/movie.csv', encoding ='ISO-8859-1')\n"
      ]
    },
    {
      "cell_type": "code",
      "execution_count": null,
      "metadata": {
        "colab": {
          "base_uri": "https://localhost:8080/"
        },
        "id": "arqUfel6et58",
        "outputId": "6ac77936-ef17-4336-f46f-ac7d5524a92c"
      },
      "outputs": [
        {
          "output_type": "stream",
          "name": "stdout",
          "text": [
            "                                                text  label\n",
            "0  I grew up (b. 1965) watching and loving the Th...      0\n",
            "1  When I put this movie in my DVD player, and sa...      0\n",
            "2  Why do people who do not know what a particula...      0\n",
            "3  Even though I have great interest in Biblical ...      0\n",
            "4  Im a die hard Dads Army fan and nothing will e...      1\n"
          ]
        }
      ],
      "source": [
        "#Checking the number of rows and coloumns in t_data\n",
        "t_data.shape\n",
        "\n",
        "#printing the first five rows of the dataframe.\n",
        "t_data.head()\n",
        "t_data = t_data.rename(columns ={'ï»¿text':'text'})\n",
        "print(t_data.head())\n"
      ]
    },
    {
      "cell_type": "code",
      "execution_count": null,
      "metadata": {
        "id": "QKpsLC_ifnei"
      },
      "outputs": [],
      "source": [
        "#As it is not reading the coloumn names we are naming the coloumns.\n",
        "#as first data point is considered as coloumn name.\n",
        "#Naming the coloumn name in t_data.\n",
        "column_names =['text','id']\n",
        "t_data = pd.read_csv('/content/movie.csv', names = column_names, encoding ='ISO-8859-1')"
      ]
    },
    {
      "cell_type": "code",
      "execution_count": null,
      "metadata": {
        "colab": {
          "base_uri": "https://localhost:8080/"
        },
        "id": "6XRDBS-91V1a",
        "outputId": "ac877365-eb78-403c-a712-6c6684c6b135"
      },
      "outputs": [
        {
          "output_type": "execute_result",
          "data": {
            "text/plain": [
              "(40001, 2)"
            ]
          },
          "metadata": {},
          "execution_count": 11
        }
      ],
      "source": [
        "t_data.shape"
      ]
    },
    {
      "cell_type": "code",
      "execution_count": null,
      "metadata": {
        "colab": {
          "base_uri": "https://localhost:8080/",
          "height": 206
        },
        "id": "ybR7Z99GiPtj",
        "outputId": "d36ba8ae-456a-4adb-9bfb-434c267ab25b"
      },
      "outputs": [
        {
          "output_type": "execute_result",
          "data": {
            "text/plain": [
              "                                                text     id\n",
              "0                                            ï»¿text  label\n",
              "1  I grew up (b. 1965) watching and loving the Th...      0\n",
              "2  When I put this movie in my DVD player, and sa...      0\n",
              "3  Why do people who do not know what a particula...      0\n",
              "4  Even though I have great interest in Biblical ...      0"
            ],
            "text/html": [
              "\n",
              "  <div id=\"df-18b4f2a8-0805-4e27-8d6b-b8f155f78546\" class=\"colab-df-container\">\n",
              "    <div>\n",
              "<style scoped>\n",
              "    .dataframe tbody tr th:only-of-type {\n",
              "        vertical-align: middle;\n",
              "    }\n",
              "\n",
              "    .dataframe tbody tr th {\n",
              "        vertical-align: top;\n",
              "    }\n",
              "\n",
              "    .dataframe thead th {\n",
              "        text-align: right;\n",
              "    }\n",
              "</style>\n",
              "<table border=\"1\" class=\"dataframe\">\n",
              "  <thead>\n",
              "    <tr style=\"text-align: right;\">\n",
              "      <th></th>\n",
              "      <th>text</th>\n",
              "      <th>id</th>\n",
              "    </tr>\n",
              "  </thead>\n",
              "  <tbody>\n",
              "    <tr>\n",
              "      <th>0</th>\n",
              "      <td>ï»¿text</td>\n",
              "      <td>label</td>\n",
              "    </tr>\n",
              "    <tr>\n",
              "      <th>1</th>\n",
              "      <td>I grew up (b. 1965) watching and loving the Th...</td>\n",
              "      <td>0</td>\n",
              "    </tr>\n",
              "    <tr>\n",
              "      <th>2</th>\n",
              "      <td>When I put this movie in my DVD player, and sa...</td>\n",
              "      <td>0</td>\n",
              "    </tr>\n",
              "    <tr>\n",
              "      <th>3</th>\n",
              "      <td>Why do people who do not know what a particula...</td>\n",
              "      <td>0</td>\n",
              "    </tr>\n",
              "    <tr>\n",
              "      <th>4</th>\n",
              "      <td>Even though I have great interest in Biblical ...</td>\n",
              "      <td>0</td>\n",
              "    </tr>\n",
              "  </tbody>\n",
              "</table>\n",
              "</div>\n",
              "    <div class=\"colab-df-buttons\">\n",
              "\n",
              "  <div class=\"colab-df-container\">\n",
              "    <button class=\"colab-df-convert\" onclick=\"convertToInteractive('df-18b4f2a8-0805-4e27-8d6b-b8f155f78546')\"\n",
              "            title=\"Convert this dataframe to an interactive table.\"\n",
              "            style=\"display:none;\">\n",
              "\n",
              "  <svg xmlns=\"http://www.w3.org/2000/svg\" height=\"24px\" viewBox=\"0 -960 960 960\">\n",
              "    <path d=\"M120-120v-720h720v720H120Zm60-500h600v-160H180v160Zm220 220h160v-160H400v160Zm0 220h160v-160H400v160ZM180-400h160v-160H180v160Zm440 0h160v-160H620v160ZM180-180h160v-160H180v160Zm440 0h160v-160H620v160Z\"/>\n",
              "  </svg>\n",
              "    </button>\n",
              "\n",
              "  <style>\n",
              "    .colab-df-container {\n",
              "      display:flex;\n",
              "      gap: 12px;\n",
              "    }\n",
              "\n",
              "    .colab-df-convert {\n",
              "      background-color: #E8F0FE;\n",
              "      border: none;\n",
              "      border-radius: 50%;\n",
              "      cursor: pointer;\n",
              "      display: none;\n",
              "      fill: #1967D2;\n",
              "      height: 32px;\n",
              "      padding: 0 0 0 0;\n",
              "      width: 32px;\n",
              "    }\n",
              "\n",
              "    .colab-df-convert:hover {\n",
              "      background-color: #E2EBFA;\n",
              "      box-shadow: 0px 1px 2px rgba(60, 64, 67, 0.3), 0px 1px 3px 1px rgba(60, 64, 67, 0.15);\n",
              "      fill: #174EA6;\n",
              "    }\n",
              "\n",
              "    .colab-df-buttons div {\n",
              "      margin-bottom: 4px;\n",
              "    }\n",
              "\n",
              "    [theme=dark] .colab-df-convert {\n",
              "      background-color: #3B4455;\n",
              "      fill: #D2E3FC;\n",
              "    }\n",
              "\n",
              "    [theme=dark] .colab-df-convert:hover {\n",
              "      background-color: #434B5C;\n",
              "      box-shadow: 0px 1px 3px 1px rgba(0, 0, 0, 0.15);\n",
              "      filter: drop-shadow(0px 1px 2px rgba(0, 0, 0, 0.3));\n",
              "      fill: #FFFFFF;\n",
              "    }\n",
              "  </style>\n",
              "\n",
              "    <script>\n",
              "      const buttonEl =\n",
              "        document.querySelector('#df-18b4f2a8-0805-4e27-8d6b-b8f155f78546 button.colab-df-convert');\n",
              "      buttonEl.style.display =\n",
              "        google.colab.kernel.accessAllowed ? 'block' : 'none';\n",
              "\n",
              "      async function convertToInteractive(key) {\n",
              "        const element = document.querySelector('#df-18b4f2a8-0805-4e27-8d6b-b8f155f78546');\n",
              "        const dataTable =\n",
              "          await google.colab.kernel.invokeFunction('convertToInteractive',\n",
              "                                                    [key], {});\n",
              "        if (!dataTable) return;\n",
              "\n",
              "        const docLinkHtml = 'Like what you see? Visit the ' +\n",
              "          '<a target=\"_blank\" href=https://colab.research.google.com/notebooks/data_table.ipynb>data table notebook</a>'\n",
              "          + ' to learn more about interactive tables.';\n",
              "        element.innerHTML = '';\n",
              "        dataTable['output_type'] = 'display_data';\n",
              "        await google.colab.output.renderOutput(dataTable, element);\n",
              "        const docLink = document.createElement('div');\n",
              "        docLink.innerHTML = docLinkHtml;\n",
              "        element.appendChild(docLink);\n",
              "      }\n",
              "    </script>\n",
              "  </div>\n",
              "\n",
              "\n",
              "<div id=\"df-18f59718-8d78-4b64-a830-9081be3bba9c\">\n",
              "  <button class=\"colab-df-quickchart\" onclick=\"quickchart('df-18f59718-8d78-4b64-a830-9081be3bba9c')\"\n",
              "            title=\"Suggest charts\"\n",
              "            style=\"display:none;\">\n",
              "\n",
              "<svg xmlns=\"http://www.w3.org/2000/svg\" height=\"24px\"viewBox=\"0 0 24 24\"\n",
              "     width=\"24px\">\n",
              "    <g>\n",
              "        <path d=\"M19 3H5c-1.1 0-2 .9-2 2v14c0 1.1.9 2 2 2h14c1.1 0 2-.9 2-2V5c0-1.1-.9-2-2-2zM9 17H7v-7h2v7zm4 0h-2V7h2v10zm4 0h-2v-4h2v4z\"/>\n",
              "    </g>\n",
              "</svg>\n",
              "  </button>\n",
              "\n",
              "<style>\n",
              "  .colab-df-quickchart {\n",
              "      --bg-color: #E8F0FE;\n",
              "      --fill-color: #1967D2;\n",
              "      --hover-bg-color: #E2EBFA;\n",
              "      --hover-fill-color: #174EA6;\n",
              "      --disabled-fill-color: #AAA;\n",
              "      --disabled-bg-color: #DDD;\n",
              "  }\n",
              "\n",
              "  [theme=dark] .colab-df-quickchart {\n",
              "      --bg-color: #3B4455;\n",
              "      --fill-color: #D2E3FC;\n",
              "      --hover-bg-color: #434B5C;\n",
              "      --hover-fill-color: #FFFFFF;\n",
              "      --disabled-bg-color: #3B4455;\n",
              "      --disabled-fill-color: #666;\n",
              "  }\n",
              "\n",
              "  .colab-df-quickchart {\n",
              "    background-color: var(--bg-color);\n",
              "    border: none;\n",
              "    border-radius: 50%;\n",
              "    cursor: pointer;\n",
              "    display: none;\n",
              "    fill: var(--fill-color);\n",
              "    height: 32px;\n",
              "    padding: 0;\n",
              "    width: 32px;\n",
              "  }\n",
              "\n",
              "  .colab-df-quickchart:hover {\n",
              "    background-color: var(--hover-bg-color);\n",
              "    box-shadow: 0 1px 2px rgba(60, 64, 67, 0.3), 0 1px 3px 1px rgba(60, 64, 67, 0.15);\n",
              "    fill: var(--button-hover-fill-color);\n",
              "  }\n",
              "\n",
              "  .colab-df-quickchart-complete:disabled,\n",
              "  .colab-df-quickchart-complete:disabled:hover {\n",
              "    background-color: var(--disabled-bg-color);\n",
              "    fill: var(--disabled-fill-color);\n",
              "    box-shadow: none;\n",
              "  }\n",
              "\n",
              "  .colab-df-spinner {\n",
              "    border: 2px solid var(--fill-color);\n",
              "    border-color: transparent;\n",
              "    border-bottom-color: var(--fill-color);\n",
              "    animation:\n",
              "      spin 1s steps(1) infinite;\n",
              "  }\n",
              "\n",
              "  @keyframes spin {\n",
              "    0% {\n",
              "      border-color: transparent;\n",
              "      border-bottom-color: var(--fill-color);\n",
              "      border-left-color: var(--fill-color);\n",
              "    }\n",
              "    20% {\n",
              "      border-color: transparent;\n",
              "      border-left-color: var(--fill-color);\n",
              "      border-top-color: var(--fill-color);\n",
              "    }\n",
              "    30% {\n",
              "      border-color: transparent;\n",
              "      border-left-color: var(--fill-color);\n",
              "      border-top-color: var(--fill-color);\n",
              "      border-right-color: var(--fill-color);\n",
              "    }\n",
              "    40% {\n",
              "      border-color: transparent;\n",
              "      border-right-color: var(--fill-color);\n",
              "      border-top-color: var(--fill-color);\n",
              "    }\n",
              "    60% {\n",
              "      border-color: transparent;\n",
              "      border-right-color: var(--fill-color);\n",
              "    }\n",
              "    80% {\n",
              "      border-color: transparent;\n",
              "      border-right-color: var(--fill-color);\n",
              "      border-bottom-color: var(--fill-color);\n",
              "    }\n",
              "    90% {\n",
              "      border-color: transparent;\n",
              "      border-bottom-color: var(--fill-color);\n",
              "    }\n",
              "  }\n",
              "</style>\n",
              "\n",
              "  <script>\n",
              "    async function quickchart(key) {\n",
              "      const quickchartButtonEl =\n",
              "        document.querySelector('#' + key + ' button');\n",
              "      quickchartButtonEl.disabled = true;  // To prevent multiple clicks.\n",
              "      quickchartButtonEl.classList.add('colab-df-spinner');\n",
              "      try {\n",
              "        const charts = await google.colab.kernel.invokeFunction(\n",
              "            'suggestCharts', [key], {});\n",
              "      } catch (error) {\n",
              "        console.error('Error during call to suggestCharts:', error);\n",
              "      }\n",
              "      quickchartButtonEl.classList.remove('colab-df-spinner');\n",
              "      quickchartButtonEl.classList.add('colab-df-quickchart-complete');\n",
              "    }\n",
              "    (() => {\n",
              "      let quickchartButtonEl =\n",
              "        document.querySelector('#df-18f59718-8d78-4b64-a830-9081be3bba9c button');\n",
              "      quickchartButtonEl.style.display =\n",
              "        google.colab.kernel.accessAllowed ? 'block' : 'none';\n",
              "    })();\n",
              "  </script>\n",
              "</div>\n",
              "\n",
              "    </div>\n",
              "  </div>\n"
            ],
            "application/vnd.google.colaboratory.intrinsic+json": {
              "type": "dataframe",
              "variable_name": "t_data",
              "summary": "{\n  \"name\": \"t_data\",\n  \"rows\": 40001,\n  \"fields\": [\n    {\n      \"column\": \"text\",\n      \"properties\": {\n        \"dtype\": \"string\",\n        \"num_unique_values\": 39724,\n        \"samples\": [\n          \"The traditional Western is synonymous with wide open spaces, clearcut morality, inevitable storylines, the optimistic faith in a hero's ability to shape his own destiny, to escape his past. These qualities reflect directly the American sense of self, the self-shaping Dream, the pushing of boundaries and frontiers, which is why the genre is still alluded to by opportunistic politicians. With some noble exceptions (eg Wellman, Hawks), the Western was healthily free of neuroses or real anxiety. Anthony Mann changed all that forever, and this first foray into the genre is one of the most violent, vivid, complex, not to say exciting Westerns ever made.<br /><br />The traditional Western depends on a hero who exemplifies rugged wholesomeness, whatever misfortunes he may have had in the past, a supporter of order and right, who dominates the film, removes its obstacles, restores harmony in effect; and an obvious villain, who often, ironically, drives the plot, forces the hero into certain actions. The difference between the two is often delineated as mythically simple as the wearing of white or black hats.<br /><br />Mann's background was in film noir, a genre antithetical to wide open spaces and optimism. Noir was neurotically charged, focusing on the dissolution of an unstable protagonist, where morality is blurred, the hero is as often the villain, trapped in an interior-labyrinth of his own making, a passive victim to destiny. Noir is about regress not progress, the interrogating and denying of modes and signs of representation, not the creation and confirmation of them.<br /><br />WINCHESTER 73 is fraught with noir anxiety. Noir is often considered a psychological genre, visualising the traumas of its protagonist's head. 73 does this too, and is all the more disturbing in that that protagonist is lovely, homespun Jimmy Stewart, initiating here his great run of difficult films with Mann and Hitchcock. In many ways, good-natured and sweet, representing right and trying to restore disruptions to the natural order, he is also a near-lunatic who will stop at nothing to achieve murderous revenge, whose relentless quest mirrors Ethan Edwards in THE SEARCHERS in its inhuman persistance, whose human instincts are frayed by this quest, and whose bursts of violence are genuinely terrifying to witness.<br /><br />As in noir, his anxiety has a psychological base - unlike most 'healthy' heroes who have outgrown (symbolically killed) their fathers, McAdam's father was killed before he could complete the process; his chasing his brother is less moral revenge than an anguished protest against stunted growth. The climactic shoot-out is not cathartic: McAdam staggers back into 'normal' society, like he's just witnessed some of the world's most ghastly horrors.<br /><br />What is most unsettling about the film is that it's not really about a hero or a villain at all, but an inanimate piece of weoponry that drives the action. 73 opens with the gun of the title privileged, on display behind a glass window, while its admirers are trapped, squashed, undifferentiated, framed, admiring it outside. Throughout the film, human power is reduced to the most arbitrary of signifiers - names change; Lin and Dutch mime shooting each other because they've no guns; quests lose their moral vitality and their practitioners veer close to madness; armies have to ask for help from Confederate strangers to fight battles; a man becomes worthy of respect only when he mentions his name; another man is revealed as a coward when he abandons his fiancee to the Indians; the gun retains its prestige, power, wholeness.<br /><br />It's not the revenge plot which drives the film, but the story of the gun; this wrenches the film out of conventional expectations, and creates an eerie, alienating, modern feel. We become so caught up in the revenge plot that when we follow, with the gun, another plot entirely, we feel slightly bewildered.<br /><br />This emphasis on the gun, symbol of potent masculinity, actually allows for a critique of that masculinity, revealing pointless elaborate rituals at the expense of society and order; brute capitalist greed; murderous Indian-traders who defraud both seller and enemy; cowards; psychotic killers; before returning to its 'true' owner, a broken hero thoroughly compromised, who has become as murderous as the murderer he seeks. The gun is never imprinted with the name of its owner, not only because there is no fixed owner, but because there is no fixed masculinity, an insight anathema to the traditional Western.<br /><br />73 brilliantly invokes Western myths - Wyatt Earp, Dodge City, the Cavalry, the Civil War, the wide open West - only to undermine them. Earp has an inflated reputation that is all name but never proven - Dodge City is no safer against outlaws than anywhere else; the Cavalry is inept (Custer has just lost Little Big Horn) and the bitter feud of the War is shown to be irrelevant. The myth of the open West is a site for a very closed, inescapable, circular plot which traps its characters, refuses to allow them shape their destiny, but allowing it to shape them.<br /><br />The old John Ford silhouette of riders on a vast mountain is reprised, but signals here not progress but repetition and circularity. But for all its deconstruction, the film is also tangibly vivid in a way few Westerns ever achieve. Mann's incisive technique intrudes his camera in crucial positions, alternating revealing distance with intense examination, making the saloon doors and stagecoaches seem thrillingly alive and lived in.\",\n          \"Although I saw this movie in Korea, in Korean, and therefore did not understand the language, images sure say more than enough. From what I can make of it, this is the story: Two superb sword fighters become friends in their service as the king's guard. One of them finds himself opposed to the ways of the king and starts assassinating important men. The other has to hunt him down. This movie is visually great. The swordfighting is great. And the movie has a gripping end. I just hope this movie will be marketed for the western cinema goers. And be released on DVD, of course.\",\n          \"First and foremost I'd like to state - for the record - that it's incredibly dumb to call your movie \\\"Embryo\\\" when the subject matter exclusively revolves on scientific research performed on fetuses (animal as well as human) aged 12-16 weeks. The embryonic stage is over at the end of the eighth pregnancy week and from that moment on the unborn critter enters the fetal phase. Okay, in all honestly, I didn't know all this, but I took the effort of looking it up and that's the also the least thing the creators of \\\"Embryo\\\" could have done. Don't worry; I'm not just stumbling over details or being exaggeratedly bitter, as there are several more reasons to state why \\\"Embryo\\\" is a huge failure. Actual science can be considered as boring and inaccessible, and thus Science Fiction is a cinematic genre created especially to make the otherwise tedious, yet educational science topics more interesting and comprehensible to larger audiences. By depicting ambitious scientific experiments that go horribly wrong, or space missions that encounter evil aliens instead of light-years of void, filmmakers usually manage to entertain people with spectacular special effects and, at the same time, teach them useful little trivia about science. In order to make a good or at least halfway-decent Science Fiction movie, writers and directors only have to comply with one basic rule: DON'T be boring! If they can't fulfill this one condition, the viewer might as well read a theoretically accurate book. Something must have gone wrong during the production of Ralph Nelson's \\\"Embryo\\\". The basic premise is potentially fascinating and even involving, as we're all sensitive about saving the lives of unborn babies. There also were some very prominent names involved in the production, like main stars Rock Hudson (\\\"Giant\\\", \\\"Seconds\\\"), Diane Ladd (\\\"Chinatown\\\", \\\"Alice Doesn't Live Here Anymore\\\") and director Nelson himself was responsible for the acclaimed classics \\\"Soldier Blue\\\" and \\\"Charly\\\". Then what went wrong? Simple. The script is irredeemably boring, clich\\u00c3\\u00a9d and the whole thing looks incredibly foolish because the lab scenery & scientific equipment is clearly too primitive to achieve any medical breakthroughs with. <br /><br />Rock Hudson, in a very poor performance, plays a doctor who hasn't put any passion in his research work ever since his wife passed away. When his car hits a pregnant dog on a rainy night, his passion returns and he does everything possible to save the dying animals' fetuses. He manages to keep one fetus alive, impressively accelerates its growth process and trains it to become an extremely intelligent dog. Because his procedure is so successful, Dr. Paul Holliston convinces his friend at the hospital to repeat his tests with the human fetus taken from the womb of a pregnant teenager who committed suicide. The female subject unexpectedly keeps growing at a fast rate, however, and after only a couple of weeks she's a full-grown, ravishing and super-intelligent woman. The good doctor naturally falls in love with her, but the groundbreaking new growth treatment also begins to show horrible side effects... Absolute nothing happens during the first 45 minutes of the film, apart from a lot of implausible and overly melodramatic mumbo-jumbo and one or two deeply impressive tricks performed by the dog. That second half of the film does contain a little bit of (grotesque) action and suspense, but by then the stupidity of the dialogs and the implausible plot-twists already ruined the potentially fabulous Sci-Fi idea. There are some really cool scenes, most notably the chess-showdown between Victoria and Roddy McDowall (in a highly memorable and ultra-obnoxious supportive role). The grand finale is absurdly grotesque and literally on the verge of ridiculous, and it almost feels like Ralph Nelson put in that final disastrous shot because it was the general rule in contemporary thriller & Sci-Fi cinema. The last sequence, including the horrible freeze-frame shot at the end, certainly doesn't fit the tone of the previous 100 minutes of the film. But anyway, my sincere admiration and respect to the dog and his trainers. An animal with such intellect and talent surely deserved to demonstrate its tricks in a much better film.\"\n        ],\n        \"semantic_type\": \"\",\n        \"description\": \"\"\n      }\n    },\n    {\n      \"column\": \"id\",\n      \"properties\": {\n        \"dtype\": \"category\",\n        \"num_unique_values\": 3,\n        \"samples\": [\n          \"label\",\n          \"0\",\n          \"1\"\n        ],\n        \"semantic_type\": \"\",\n        \"description\": \"\"\n      }\n    }\n  ]\n}"
            }
          },
          "metadata": {},
          "execution_count": 12
        }
      ],
      "source": [
        "t_data.shape\n",
        "\n",
        "t_data.head()"
      ]
    },
    {
      "cell_type": "code",
      "execution_count": null,
      "metadata": {
        "colab": {
          "base_uri": "https://localhost:8080/",
          "height": 424
        },
        "id": "wQ_iqG0KaYSL",
        "outputId": "fa7b731a-0dd0-4fc5-b1d5-6ccfa79a8e56"
      },
      "outputs": [
        {
          "output_type": "execute_result",
          "data": {
            "text/plain": [
              "                                                    text id\n",
              "1      I grew up (b. 1965) watching and loving the Th...  0\n",
              "2      When I put this movie in my DVD player, and sa...  0\n",
              "3      Why do people who do not know what a particula...  0\n",
              "4      Even though I have great interest in Biblical ...  0\n",
              "5      Im a die hard Dads Army fan and nothing will e...  1\n",
              "...                                                  ... ..\n",
              "39996  \"Western Union\" is something of a forgotten cl...  1\n",
              "39997  This movie is an incredible piece of work. It ...  1\n",
              "39998  My wife and I watched this movie because we pl...  0\n",
              "39999  When I first watched Flatliners, I was amazed....  1\n",
              "40000  Why would this film be so good, but only gross...  1\n",
              "\n",
              "[40000 rows x 2 columns]"
            ],
            "text/html": [
              "\n",
              "  <div id=\"df-cbc961fa-8fde-47c9-b44e-eca774414588\" class=\"colab-df-container\">\n",
              "    <div>\n",
              "<style scoped>\n",
              "    .dataframe tbody tr th:only-of-type {\n",
              "        vertical-align: middle;\n",
              "    }\n",
              "\n",
              "    .dataframe tbody tr th {\n",
              "        vertical-align: top;\n",
              "    }\n",
              "\n",
              "    .dataframe thead th {\n",
              "        text-align: right;\n",
              "    }\n",
              "</style>\n",
              "<table border=\"1\" class=\"dataframe\">\n",
              "  <thead>\n",
              "    <tr style=\"text-align: right;\">\n",
              "      <th></th>\n",
              "      <th>text</th>\n",
              "      <th>id</th>\n",
              "    </tr>\n",
              "  </thead>\n",
              "  <tbody>\n",
              "    <tr>\n",
              "      <th>1</th>\n",
              "      <td>I grew up (b. 1965) watching and loving the Th...</td>\n",
              "      <td>0</td>\n",
              "    </tr>\n",
              "    <tr>\n",
              "      <th>2</th>\n",
              "      <td>When I put this movie in my DVD player, and sa...</td>\n",
              "      <td>0</td>\n",
              "    </tr>\n",
              "    <tr>\n",
              "      <th>3</th>\n",
              "      <td>Why do people who do not know what a particula...</td>\n",
              "      <td>0</td>\n",
              "    </tr>\n",
              "    <tr>\n",
              "      <th>4</th>\n",
              "      <td>Even though I have great interest in Biblical ...</td>\n",
              "      <td>0</td>\n",
              "    </tr>\n",
              "    <tr>\n",
              "      <th>5</th>\n",
              "      <td>Im a die hard Dads Army fan and nothing will e...</td>\n",
              "      <td>1</td>\n",
              "    </tr>\n",
              "    <tr>\n",
              "      <th>...</th>\n",
              "      <td>...</td>\n",
              "      <td>...</td>\n",
              "    </tr>\n",
              "    <tr>\n",
              "      <th>39996</th>\n",
              "      <td>\"Western Union\" is something of a forgotten cl...</td>\n",
              "      <td>1</td>\n",
              "    </tr>\n",
              "    <tr>\n",
              "      <th>39997</th>\n",
              "      <td>This movie is an incredible piece of work. It ...</td>\n",
              "      <td>1</td>\n",
              "    </tr>\n",
              "    <tr>\n",
              "      <th>39998</th>\n",
              "      <td>My wife and I watched this movie because we pl...</td>\n",
              "      <td>0</td>\n",
              "    </tr>\n",
              "    <tr>\n",
              "      <th>39999</th>\n",
              "      <td>When I first watched Flatliners, I was amazed....</td>\n",
              "      <td>1</td>\n",
              "    </tr>\n",
              "    <tr>\n",
              "      <th>40000</th>\n",
              "      <td>Why would this film be so good, but only gross...</td>\n",
              "      <td>1</td>\n",
              "    </tr>\n",
              "  </tbody>\n",
              "</table>\n",
              "<p>40000 rows × 2 columns</p>\n",
              "</div>\n",
              "    <div class=\"colab-df-buttons\">\n",
              "\n",
              "  <div class=\"colab-df-container\">\n",
              "    <button class=\"colab-df-convert\" onclick=\"convertToInteractive('df-cbc961fa-8fde-47c9-b44e-eca774414588')\"\n",
              "            title=\"Convert this dataframe to an interactive table.\"\n",
              "            style=\"display:none;\">\n",
              "\n",
              "  <svg xmlns=\"http://www.w3.org/2000/svg\" height=\"24px\" viewBox=\"0 -960 960 960\">\n",
              "    <path d=\"M120-120v-720h720v720H120Zm60-500h600v-160H180v160Zm220 220h160v-160H400v160Zm0 220h160v-160H400v160ZM180-400h160v-160H180v160Zm440 0h160v-160H620v160ZM180-180h160v-160H180v160Zm440 0h160v-160H620v160Z\"/>\n",
              "  </svg>\n",
              "    </button>\n",
              "\n",
              "  <style>\n",
              "    .colab-df-container {\n",
              "      display:flex;\n",
              "      gap: 12px;\n",
              "    }\n",
              "\n",
              "    .colab-df-convert {\n",
              "      background-color: #E8F0FE;\n",
              "      border: none;\n",
              "      border-radius: 50%;\n",
              "      cursor: pointer;\n",
              "      display: none;\n",
              "      fill: #1967D2;\n",
              "      height: 32px;\n",
              "      padding: 0 0 0 0;\n",
              "      width: 32px;\n",
              "    }\n",
              "\n",
              "    .colab-df-convert:hover {\n",
              "      background-color: #E2EBFA;\n",
              "      box-shadow: 0px 1px 2px rgba(60, 64, 67, 0.3), 0px 1px 3px 1px rgba(60, 64, 67, 0.15);\n",
              "      fill: #174EA6;\n",
              "    }\n",
              "\n",
              "    .colab-df-buttons div {\n",
              "      margin-bottom: 4px;\n",
              "    }\n",
              "\n",
              "    [theme=dark] .colab-df-convert {\n",
              "      background-color: #3B4455;\n",
              "      fill: #D2E3FC;\n",
              "    }\n",
              "\n",
              "    [theme=dark] .colab-df-convert:hover {\n",
              "      background-color: #434B5C;\n",
              "      box-shadow: 0px 1px 3px 1px rgba(0, 0, 0, 0.15);\n",
              "      filter: drop-shadow(0px 1px 2px rgba(0, 0, 0, 0.3));\n",
              "      fill: #FFFFFF;\n",
              "    }\n",
              "  </style>\n",
              "\n",
              "    <script>\n",
              "      const buttonEl =\n",
              "        document.querySelector('#df-cbc961fa-8fde-47c9-b44e-eca774414588 button.colab-df-convert');\n",
              "      buttonEl.style.display =\n",
              "        google.colab.kernel.accessAllowed ? 'block' : 'none';\n",
              "\n",
              "      async function convertToInteractive(key) {\n",
              "        const element = document.querySelector('#df-cbc961fa-8fde-47c9-b44e-eca774414588');\n",
              "        const dataTable =\n",
              "          await google.colab.kernel.invokeFunction('convertToInteractive',\n",
              "                                                    [key], {});\n",
              "        if (!dataTable) return;\n",
              "\n",
              "        const docLinkHtml = 'Like what you see? Visit the ' +\n",
              "          '<a target=\"_blank\" href=https://colab.research.google.com/notebooks/data_table.ipynb>data table notebook</a>'\n",
              "          + ' to learn more about interactive tables.';\n",
              "        element.innerHTML = '';\n",
              "        dataTable['output_type'] = 'display_data';\n",
              "        await google.colab.output.renderOutput(dataTable, element);\n",
              "        const docLink = document.createElement('div');\n",
              "        docLink.innerHTML = docLinkHtml;\n",
              "        element.appendChild(docLink);\n",
              "      }\n",
              "    </script>\n",
              "  </div>\n",
              "\n",
              "\n",
              "<div id=\"df-a9ec3e76-a5b8-422b-b396-c0b7ad97aece\">\n",
              "  <button class=\"colab-df-quickchart\" onclick=\"quickchart('df-a9ec3e76-a5b8-422b-b396-c0b7ad97aece')\"\n",
              "            title=\"Suggest charts\"\n",
              "            style=\"display:none;\">\n",
              "\n",
              "<svg xmlns=\"http://www.w3.org/2000/svg\" height=\"24px\"viewBox=\"0 0 24 24\"\n",
              "     width=\"24px\">\n",
              "    <g>\n",
              "        <path d=\"M19 3H5c-1.1 0-2 .9-2 2v14c0 1.1.9 2 2 2h14c1.1 0 2-.9 2-2V5c0-1.1-.9-2-2-2zM9 17H7v-7h2v7zm4 0h-2V7h2v10zm4 0h-2v-4h2v4z\"/>\n",
              "    </g>\n",
              "</svg>\n",
              "  </button>\n",
              "\n",
              "<style>\n",
              "  .colab-df-quickchart {\n",
              "      --bg-color: #E8F0FE;\n",
              "      --fill-color: #1967D2;\n",
              "      --hover-bg-color: #E2EBFA;\n",
              "      --hover-fill-color: #174EA6;\n",
              "      --disabled-fill-color: #AAA;\n",
              "      --disabled-bg-color: #DDD;\n",
              "  }\n",
              "\n",
              "  [theme=dark] .colab-df-quickchart {\n",
              "      --bg-color: #3B4455;\n",
              "      --fill-color: #D2E3FC;\n",
              "      --hover-bg-color: #434B5C;\n",
              "      --hover-fill-color: #FFFFFF;\n",
              "      --disabled-bg-color: #3B4455;\n",
              "      --disabled-fill-color: #666;\n",
              "  }\n",
              "\n",
              "  .colab-df-quickchart {\n",
              "    background-color: var(--bg-color);\n",
              "    border: none;\n",
              "    border-radius: 50%;\n",
              "    cursor: pointer;\n",
              "    display: none;\n",
              "    fill: var(--fill-color);\n",
              "    height: 32px;\n",
              "    padding: 0;\n",
              "    width: 32px;\n",
              "  }\n",
              "\n",
              "  .colab-df-quickchart:hover {\n",
              "    background-color: var(--hover-bg-color);\n",
              "    box-shadow: 0 1px 2px rgba(60, 64, 67, 0.3), 0 1px 3px 1px rgba(60, 64, 67, 0.15);\n",
              "    fill: var(--button-hover-fill-color);\n",
              "  }\n",
              "\n",
              "  .colab-df-quickchart-complete:disabled,\n",
              "  .colab-df-quickchart-complete:disabled:hover {\n",
              "    background-color: var(--disabled-bg-color);\n",
              "    fill: var(--disabled-fill-color);\n",
              "    box-shadow: none;\n",
              "  }\n",
              "\n",
              "  .colab-df-spinner {\n",
              "    border: 2px solid var(--fill-color);\n",
              "    border-color: transparent;\n",
              "    border-bottom-color: var(--fill-color);\n",
              "    animation:\n",
              "      spin 1s steps(1) infinite;\n",
              "  }\n",
              "\n",
              "  @keyframes spin {\n",
              "    0% {\n",
              "      border-color: transparent;\n",
              "      border-bottom-color: var(--fill-color);\n",
              "      border-left-color: var(--fill-color);\n",
              "    }\n",
              "    20% {\n",
              "      border-color: transparent;\n",
              "      border-left-color: var(--fill-color);\n",
              "      border-top-color: var(--fill-color);\n",
              "    }\n",
              "    30% {\n",
              "      border-color: transparent;\n",
              "      border-left-color: var(--fill-color);\n",
              "      border-top-color: var(--fill-color);\n",
              "      border-right-color: var(--fill-color);\n",
              "    }\n",
              "    40% {\n",
              "      border-color: transparent;\n",
              "      border-right-color: var(--fill-color);\n",
              "      border-top-color: var(--fill-color);\n",
              "    }\n",
              "    60% {\n",
              "      border-color: transparent;\n",
              "      border-right-color: var(--fill-color);\n",
              "    }\n",
              "    80% {\n",
              "      border-color: transparent;\n",
              "      border-right-color: var(--fill-color);\n",
              "      border-bottom-color: var(--fill-color);\n",
              "    }\n",
              "    90% {\n",
              "      border-color: transparent;\n",
              "      border-bottom-color: var(--fill-color);\n",
              "    }\n",
              "  }\n",
              "</style>\n",
              "\n",
              "  <script>\n",
              "    async function quickchart(key) {\n",
              "      const quickchartButtonEl =\n",
              "        document.querySelector('#' + key + ' button');\n",
              "      quickchartButtonEl.disabled = true;  // To prevent multiple clicks.\n",
              "      quickchartButtonEl.classList.add('colab-df-spinner');\n",
              "      try {\n",
              "        const charts = await google.colab.kernel.invokeFunction(\n",
              "            'suggestCharts', [key], {});\n",
              "      } catch (error) {\n",
              "        console.error('Error during call to suggestCharts:', error);\n",
              "      }\n",
              "      quickchartButtonEl.classList.remove('colab-df-spinner');\n",
              "      quickchartButtonEl.classList.add('colab-df-quickchart-complete');\n",
              "    }\n",
              "    (() => {\n",
              "      let quickchartButtonEl =\n",
              "        document.querySelector('#df-a9ec3e76-a5b8-422b-b396-c0b7ad97aece button');\n",
              "      quickchartButtonEl.style.display =\n",
              "        google.colab.kernel.accessAllowed ? 'block' : 'none';\n",
              "    })();\n",
              "  </script>\n",
              "</div>\n",
              "\n",
              "    </div>\n",
              "  </div>\n"
            ],
            "application/vnd.google.colaboratory.intrinsic+json": {
              "type": "dataframe",
              "summary": "{\n  \"name\": \"t_data\",\n  \"rows\": 40000,\n  \"fields\": [\n    {\n      \"column\": \"text\",\n      \"properties\": {\n        \"dtype\": \"string\",\n        \"num_unique_values\": 39723,\n        \"samples\": [\n          \"There are similarities between Ray Lawrence's \\\"Jindabyne\\\" and his last movie \\\"Lantana\\\" \\u00c2\\u0096 a dead body and its repercussions for already dysfunctional lives. But whereas \\\"Lantana\\\" offered some hope and resolution, \\\"Jindabyne\\\" leaves everything unresolved in a bleak way that will leave most viewers unsatisfied, perhaps even cheated.<br /><br />The storyline - the aftermath of a fisherman's discovery of a corpse floating in a remote river - is based on a short story by Raymond Carver. It became an element in Robert Altman's classic 1993 ensemble \\\"Short Cuts\\\". Lawrence uses this theme for an exploration and exposition of relationships within a small Australian community under stress. The movie poses some moral questions \\\"Would you let the discovery of a dead body ruin your good weekend?\\\" and more poignantly for Australians \\\"Would it make any difference if the dead person was an aboriginal?\\\" The acting, especially by Gabriel Byrne and Laura Linney, is commendable. And there are elements of mysticism reinforced by haunting music, not unlike \\\"Picnic at Hanging Rock\\\".<br /><br />If all this sounds like the basis for a great movie - be prepared for a let down, the pace is very slow and the murder is shown near the beginning, thereby eliminating the element of mystery. And so we are left with these desolate lives and a blank finale.\",\n          \"Hammer House of Horror: Witching Time is set in rural England on Woodstock farm where stressed musician David Winter (Jon Finch) lives with his actress wife Mary (Prunella Gee) & is currently composing the music for a horror film. One night while looking for his dog Billy David finds a mysterious woman in his barn, calling herself Lucinda Jessop (Patricia Quinn) she claims to be a witch who has transported herself from 300 years in the past to now. Obviously rather sceptical David has a hard time believing her so he locks her in a room in his farmhouse & calls his doctor Charles (Ian McCulloch) to come examine her, however once he arrives & they enter the room Lucinda has disappeared. Charles puts it down to David drinking too much but over the next few day strange & disturbing things begin to happen to David & Mary...<br /><br />Witching Time was episode 1 from the short lived British anthology horror series produced by Hammer studios for TV & originally aired here in the UK during September 1980, the first of two Hammer House of Horror episodes to be directed by Don Leaver (episode 13 The Mark of Satan being the other) I actually rather liked this. As a series Hammer House of Horror dealt with various different themes & were all unconnected to each other except in name & unsurprisingly Watching Time is a sinister & effective little tale about a witch, the script by Anthony Read benefits from it's slight 50 odd minute duration & moves along at a nice pace. The character's are pretty good as is the dialogue, there are some nice scenes here & I liked the way it never quite reveals whether David & Mary are going crazy or not. I think it's a well structured, entertaining & reasonably creepy horror themed TV show that I enjoyed more than I thought I would.<br /><br />Being made for British TV meant the boys at Hammer had a lower budget than usual, if that was even possible, & as such there is no gorgeous period settings here as in their most well know Frankenstein & Dracula films although the contemporary English setting does give it a certain atmosphere that you can relate to a bit more. Another TV based restriction is that the exploitation levels are lower than you might hope for, there's some nudity & gore but not much although I didn't mind too much as the story here is pretty good. It's well made for what it is & Hammer's experience on their feature films probably helped make these look pretty good, the acting is good as well with genre favourite Ian McCulloch making a bit-part appearance.<br /><br />Witching Time is a good start to the Hammer House of Horror series, as a 50 minute piece of British TV it's pretty damned good, now why don't they make show's like this over here anymore?\",\n          \"What a great cast for this movie. The timing was excellent and there were so many clever lines-several times I was still laughing minutes after they were delivered. I found Manna From Heaven to have some surprising moments and while there were things I was thinking would happen, the way they came together was anything but predictable. This movie is about hope and righting wrongs. I left the theater feeling inspired to do the right thing. Bravo to the Five Sisters.\"\n        ],\n        \"semantic_type\": \"\",\n        \"description\": \"\"\n      }\n    },\n    {\n      \"column\": \"id\",\n      \"properties\": {\n        \"dtype\": \"category\",\n        \"num_unique_values\": 2,\n        \"samples\": [\n          \"1\",\n          \"0\"\n        ],\n        \"semantic_type\": \"\",\n        \"description\": \"\"\n      }\n    }\n  ]\n}"
            }
          },
          "metadata": {},
          "execution_count": 13
        }
      ],
      "source": [
        "t_data.drop(t_data.index[0])"
      ]
    },
    {
      "cell_type": "code",
      "execution_count": null,
      "metadata": {
        "colab": {
          "base_uri": "https://localhost:8080/",
          "height": 206
        },
        "id": "985MkKN_iasF",
        "outputId": "1b22a493-99a0-4469-c26b-49ce25de27c5"
      },
      "outputs": [
        {
          "output_type": "execute_result",
          "data": {
            "text/plain": [
              "                                                    text id\n",
              "39996  \"Western Union\" is something of a forgotten cl...  1\n",
              "39997  This movie is an incredible piece of work. It ...  1\n",
              "39998  My wife and I watched this movie because we pl...  0\n",
              "39999  When I first watched Flatliners, I was amazed....  1\n",
              "40000  Why would this film be so good, but only gross...  1"
            ],
            "text/html": [
              "\n",
              "  <div id=\"df-de54de37-b584-42f6-be90-f41e2f7eb028\" class=\"colab-df-container\">\n",
              "    <div>\n",
              "<style scoped>\n",
              "    .dataframe tbody tr th:only-of-type {\n",
              "        vertical-align: middle;\n",
              "    }\n",
              "\n",
              "    .dataframe tbody tr th {\n",
              "        vertical-align: top;\n",
              "    }\n",
              "\n",
              "    .dataframe thead th {\n",
              "        text-align: right;\n",
              "    }\n",
              "</style>\n",
              "<table border=\"1\" class=\"dataframe\">\n",
              "  <thead>\n",
              "    <tr style=\"text-align: right;\">\n",
              "      <th></th>\n",
              "      <th>text</th>\n",
              "      <th>id</th>\n",
              "    </tr>\n",
              "  </thead>\n",
              "  <tbody>\n",
              "    <tr>\n",
              "      <th>39996</th>\n",
              "      <td>\"Western Union\" is something of a forgotten cl...</td>\n",
              "      <td>1</td>\n",
              "    </tr>\n",
              "    <tr>\n",
              "      <th>39997</th>\n",
              "      <td>This movie is an incredible piece of work. It ...</td>\n",
              "      <td>1</td>\n",
              "    </tr>\n",
              "    <tr>\n",
              "      <th>39998</th>\n",
              "      <td>My wife and I watched this movie because we pl...</td>\n",
              "      <td>0</td>\n",
              "    </tr>\n",
              "    <tr>\n",
              "      <th>39999</th>\n",
              "      <td>When I first watched Flatliners, I was amazed....</td>\n",
              "      <td>1</td>\n",
              "    </tr>\n",
              "    <tr>\n",
              "      <th>40000</th>\n",
              "      <td>Why would this film be so good, but only gross...</td>\n",
              "      <td>1</td>\n",
              "    </tr>\n",
              "  </tbody>\n",
              "</table>\n",
              "</div>\n",
              "    <div class=\"colab-df-buttons\">\n",
              "\n",
              "  <div class=\"colab-df-container\">\n",
              "    <button class=\"colab-df-convert\" onclick=\"convertToInteractive('df-de54de37-b584-42f6-be90-f41e2f7eb028')\"\n",
              "            title=\"Convert this dataframe to an interactive table.\"\n",
              "            style=\"display:none;\">\n",
              "\n",
              "  <svg xmlns=\"http://www.w3.org/2000/svg\" height=\"24px\" viewBox=\"0 -960 960 960\">\n",
              "    <path d=\"M120-120v-720h720v720H120Zm60-500h600v-160H180v160Zm220 220h160v-160H400v160Zm0 220h160v-160H400v160ZM180-400h160v-160H180v160Zm440 0h160v-160H620v160ZM180-180h160v-160H180v160Zm440 0h160v-160H620v160Z\"/>\n",
              "  </svg>\n",
              "    </button>\n",
              "\n",
              "  <style>\n",
              "    .colab-df-container {\n",
              "      display:flex;\n",
              "      gap: 12px;\n",
              "    }\n",
              "\n",
              "    .colab-df-convert {\n",
              "      background-color: #E8F0FE;\n",
              "      border: none;\n",
              "      border-radius: 50%;\n",
              "      cursor: pointer;\n",
              "      display: none;\n",
              "      fill: #1967D2;\n",
              "      height: 32px;\n",
              "      padding: 0 0 0 0;\n",
              "      width: 32px;\n",
              "    }\n",
              "\n",
              "    .colab-df-convert:hover {\n",
              "      background-color: #E2EBFA;\n",
              "      box-shadow: 0px 1px 2px rgba(60, 64, 67, 0.3), 0px 1px 3px 1px rgba(60, 64, 67, 0.15);\n",
              "      fill: #174EA6;\n",
              "    }\n",
              "\n",
              "    .colab-df-buttons div {\n",
              "      margin-bottom: 4px;\n",
              "    }\n",
              "\n",
              "    [theme=dark] .colab-df-convert {\n",
              "      background-color: #3B4455;\n",
              "      fill: #D2E3FC;\n",
              "    }\n",
              "\n",
              "    [theme=dark] .colab-df-convert:hover {\n",
              "      background-color: #434B5C;\n",
              "      box-shadow: 0px 1px 3px 1px rgba(0, 0, 0, 0.15);\n",
              "      filter: drop-shadow(0px 1px 2px rgba(0, 0, 0, 0.3));\n",
              "      fill: #FFFFFF;\n",
              "    }\n",
              "  </style>\n",
              "\n",
              "    <script>\n",
              "      const buttonEl =\n",
              "        document.querySelector('#df-de54de37-b584-42f6-be90-f41e2f7eb028 button.colab-df-convert');\n",
              "      buttonEl.style.display =\n",
              "        google.colab.kernel.accessAllowed ? 'block' : 'none';\n",
              "\n",
              "      async function convertToInteractive(key) {\n",
              "        const element = document.querySelector('#df-de54de37-b584-42f6-be90-f41e2f7eb028');\n",
              "        const dataTable =\n",
              "          await google.colab.kernel.invokeFunction('convertToInteractive',\n",
              "                                                    [key], {});\n",
              "        if (!dataTable) return;\n",
              "\n",
              "        const docLinkHtml = 'Like what you see? Visit the ' +\n",
              "          '<a target=\"_blank\" href=https://colab.research.google.com/notebooks/data_table.ipynb>data table notebook</a>'\n",
              "          + ' to learn more about interactive tables.';\n",
              "        element.innerHTML = '';\n",
              "        dataTable['output_type'] = 'display_data';\n",
              "        await google.colab.output.renderOutput(dataTable, element);\n",
              "        const docLink = document.createElement('div');\n",
              "        docLink.innerHTML = docLinkHtml;\n",
              "        element.appendChild(docLink);\n",
              "      }\n",
              "    </script>\n",
              "  </div>\n",
              "\n",
              "\n",
              "<div id=\"df-d0b7a1d1-d98c-4f54-b478-dfb287a71a9e\">\n",
              "  <button class=\"colab-df-quickchart\" onclick=\"quickchart('df-d0b7a1d1-d98c-4f54-b478-dfb287a71a9e')\"\n",
              "            title=\"Suggest charts\"\n",
              "            style=\"display:none;\">\n",
              "\n",
              "<svg xmlns=\"http://www.w3.org/2000/svg\" height=\"24px\"viewBox=\"0 0 24 24\"\n",
              "     width=\"24px\">\n",
              "    <g>\n",
              "        <path d=\"M19 3H5c-1.1 0-2 .9-2 2v14c0 1.1.9 2 2 2h14c1.1 0 2-.9 2-2V5c0-1.1-.9-2-2-2zM9 17H7v-7h2v7zm4 0h-2V7h2v10zm4 0h-2v-4h2v4z\"/>\n",
              "    </g>\n",
              "</svg>\n",
              "  </button>\n",
              "\n",
              "<style>\n",
              "  .colab-df-quickchart {\n",
              "      --bg-color: #E8F0FE;\n",
              "      --fill-color: #1967D2;\n",
              "      --hover-bg-color: #E2EBFA;\n",
              "      --hover-fill-color: #174EA6;\n",
              "      --disabled-fill-color: #AAA;\n",
              "      --disabled-bg-color: #DDD;\n",
              "  }\n",
              "\n",
              "  [theme=dark] .colab-df-quickchart {\n",
              "      --bg-color: #3B4455;\n",
              "      --fill-color: #D2E3FC;\n",
              "      --hover-bg-color: #434B5C;\n",
              "      --hover-fill-color: #FFFFFF;\n",
              "      --disabled-bg-color: #3B4455;\n",
              "      --disabled-fill-color: #666;\n",
              "  }\n",
              "\n",
              "  .colab-df-quickchart {\n",
              "    background-color: var(--bg-color);\n",
              "    border: none;\n",
              "    border-radius: 50%;\n",
              "    cursor: pointer;\n",
              "    display: none;\n",
              "    fill: var(--fill-color);\n",
              "    height: 32px;\n",
              "    padding: 0;\n",
              "    width: 32px;\n",
              "  }\n",
              "\n",
              "  .colab-df-quickchart:hover {\n",
              "    background-color: var(--hover-bg-color);\n",
              "    box-shadow: 0 1px 2px rgba(60, 64, 67, 0.3), 0 1px 3px 1px rgba(60, 64, 67, 0.15);\n",
              "    fill: var(--button-hover-fill-color);\n",
              "  }\n",
              "\n",
              "  .colab-df-quickchart-complete:disabled,\n",
              "  .colab-df-quickchart-complete:disabled:hover {\n",
              "    background-color: var(--disabled-bg-color);\n",
              "    fill: var(--disabled-fill-color);\n",
              "    box-shadow: none;\n",
              "  }\n",
              "\n",
              "  .colab-df-spinner {\n",
              "    border: 2px solid var(--fill-color);\n",
              "    border-color: transparent;\n",
              "    border-bottom-color: var(--fill-color);\n",
              "    animation:\n",
              "      spin 1s steps(1) infinite;\n",
              "  }\n",
              "\n",
              "  @keyframes spin {\n",
              "    0% {\n",
              "      border-color: transparent;\n",
              "      border-bottom-color: var(--fill-color);\n",
              "      border-left-color: var(--fill-color);\n",
              "    }\n",
              "    20% {\n",
              "      border-color: transparent;\n",
              "      border-left-color: var(--fill-color);\n",
              "      border-top-color: var(--fill-color);\n",
              "    }\n",
              "    30% {\n",
              "      border-color: transparent;\n",
              "      border-left-color: var(--fill-color);\n",
              "      border-top-color: var(--fill-color);\n",
              "      border-right-color: var(--fill-color);\n",
              "    }\n",
              "    40% {\n",
              "      border-color: transparent;\n",
              "      border-right-color: var(--fill-color);\n",
              "      border-top-color: var(--fill-color);\n",
              "    }\n",
              "    60% {\n",
              "      border-color: transparent;\n",
              "      border-right-color: var(--fill-color);\n",
              "    }\n",
              "    80% {\n",
              "      border-color: transparent;\n",
              "      border-right-color: var(--fill-color);\n",
              "      border-bottom-color: var(--fill-color);\n",
              "    }\n",
              "    90% {\n",
              "      border-color: transparent;\n",
              "      border-bottom-color: var(--fill-color);\n",
              "    }\n",
              "  }\n",
              "</style>\n",
              "\n",
              "  <script>\n",
              "    async function quickchart(key) {\n",
              "      const quickchartButtonEl =\n",
              "        document.querySelector('#' + key + ' button');\n",
              "      quickchartButtonEl.disabled = true;  // To prevent multiple clicks.\n",
              "      quickchartButtonEl.classList.add('colab-df-spinner');\n",
              "      try {\n",
              "        const charts = await google.colab.kernel.invokeFunction(\n",
              "            'suggestCharts', [key], {});\n",
              "      } catch (error) {\n",
              "        console.error('Error during call to suggestCharts:', error);\n",
              "      }\n",
              "      quickchartButtonEl.classList.remove('colab-df-spinner');\n",
              "      quickchartButtonEl.classList.add('colab-df-quickchart-complete');\n",
              "    }\n",
              "    (() => {\n",
              "      let quickchartButtonEl =\n",
              "        document.querySelector('#df-d0b7a1d1-d98c-4f54-b478-dfb287a71a9e button');\n",
              "      quickchartButtonEl.style.display =\n",
              "        google.colab.kernel.accessAllowed ? 'block' : 'none';\n",
              "    })();\n",
              "  </script>\n",
              "</div>\n",
              "\n",
              "    </div>\n",
              "  </div>\n"
            ],
            "application/vnd.google.colaboratory.intrinsic+json": {
              "type": "dataframe",
              "summary": "{\n  \"name\": \"t_data\",\n  \"rows\": 5,\n  \"fields\": [\n    {\n      \"column\": \"text\",\n      \"properties\": {\n        \"dtype\": \"string\",\n        \"num_unique_values\": 5,\n        \"samples\": [\n          \"This movie is an incredible piece of work. It explores every nook and cranny of the human mind, focusing on the characters relationships with the people around them. Stellar performances all around. This one had me weeping for about half an hour straight. Spend some real time with this one.\",\n          \"Why would this film be so good, but only gross an estimated $95,000,000 and have NO award nominations? John Travolta knows what he's doing. He knows he's Michael, a cigar smoking, womanizing, magical arch angel that came down to live with a dying lady and is now in a car with the staff of \\\"The National Mirror\\\" and their dog, Sparky, on the way to Chicago. It then turns into a road trip that's both horrible AND great. I don't even think the death scenes (3 to be exact) make this a tearjerker. The soundtrack is the best with \\\"Heaven Is My Home\\\", \\\"Up Around The Bend\\\", and \\\"Chains Of Fools\\\". I have very great expectations about this and I say that it should have had a little more respect in the 90's. Read my comment. Bye!\",\n          \"My wife and I watched this movie because we plan to visit Sicily and Stromboli soon. Fortunately (or unfortunately) the landscape and seascape (complete with tuna) are the only believable members of this cast. We expected reasonable well-written and well-acted movie, but were disappointed. Its only redeeming grace is an extended and remarkable fishing sequence full of authenticity: thrashing tuna, nets, wooden boats with long oars, and passionate, if superstitious, fishermen.<br /><br />The movie's sequencing is stagy, its dialogue stilted, and the acting ranges from stiff to completely \\\"over-the-top.\\\" One scene, in which Bergman stresses out as her macho, native and na\\u00c3\\u00afve husband sics his ferret on an \\\"innocent\\\" (but apparently already deceased) rabbit would be perfect grist for a Monty Python skit.<br /><br />When the volcano blew we hoped for a merciful end to the suffering (ours and the casts'). Unfortunately, the movie continues to flail on, staggering finally to a melodramatic and absurd ending. Unless you're really into old-time tuna fishing, pass this hokey effort by.\"\n        ],\n        \"semantic_type\": \"\",\n        \"description\": \"\"\n      }\n    },\n    {\n      \"column\": \"id\",\n      \"properties\": {\n        \"dtype\": \"category\",\n        \"num_unique_values\": 2,\n        \"samples\": [\n          \"0\",\n          \"1\"\n        ],\n        \"semantic_type\": \"\",\n        \"description\": \"\"\n      }\n    }\n  ]\n}"
            }
          },
          "metadata": {},
          "execution_count": 14
        }
      ],
      "source": [
        "#Read the last 5 tweets as opposite to head\n",
        "t_data.tail()"
      ]
    },
    {
      "cell_type": "code",
      "execution_count": null,
      "metadata": {
        "colab": {
          "base_uri": "https://localhost:8080/"
        },
        "id": "_punidAvi4U-",
        "outputId": "65dcf96d-9c7b-4f8c-b445-7e5edfd5c70a"
      },
      "outputs": [
        {
          "output_type": "execute_result",
          "data": {
            "text/plain": [
              "text    0\n",
              "id      0\n",
              "dtype: int64"
            ]
          },
          "metadata": {},
          "execution_count": 15
        }
      ],
      "source": [
        "#Dealing with missing values, by replacing or dropping\n",
        "#Checking the values and counting the number of missing values.\n",
        "t_data.isnull().sum()"
      ]
    },
    {
      "cell_type": "code",
      "execution_count": null,
      "metadata": {
        "colab": {
          "base_uri": "https://localhost:8080/"
        },
        "id": "0ILnhrqgjKQc",
        "outputId": "c752676a-7a2a-4103-9295-5f8af281f7d6"
      },
      "outputs": [
        {
          "output_type": "execute_result",
          "data": {
            "text/plain": [
              "0        20019\n",
              "1        19981\n",
              "label        1\n",
              "Name: id, dtype: int64"
            ]
          },
          "metadata": {},
          "execution_count": 16
        }
      ],
      "source": [
        "#Understanding the distribution of the target variable.\n",
        "#Checking the distribution of target columns\n",
        "#Here the dataset is evenly distributed but if not we have to\n",
        "#perform upsampling or downsampling.\n",
        "t_data['id'].value_counts()"
      ]
    },
    {
      "cell_type": "code",
      "execution_count": null,
      "metadata": {
        "id": "UIwzX6nijl1F"
      },
      "outputs": [],
      "source": [
        "#Convert target columns value 4 to 1\n",
        "# inplace means this change should take place in original dataset\n",
        "#Now 0 is negative tweet and 1 is positive tweet.\n",
        "# t_data.replace({'target':{4:1}}, inplace = True)\n",
        "# But I think doing this will bias the model and hence affect accuracy."
      ]
    },
    {
      "cell_type": "code",
      "execution_count": null,
      "metadata": {
        "id": "c4T1rsiAl63Z"
      },
      "outputs": [],
      "source": [
        "#Stemming\n",
        "#It is the process that is done to reduce the word to its root word (keyword).\n",
        "# ex. actor, actress, acting.\n",
        "#solution: act\n",
        "#ex. choco, chocolatey, chocolates\n",
        "#solution: chocolate.\n",
        "pstem = PorterStemmer()"
      ]
    },
    {
      "cell_type": "code",
      "execution_count": null,
      "metadata": {
        "id": "_h4j0NGKnHDU"
      },
      "outputs": [],
      "source": [
        "def stemming(content):\n",
        "  #^ means remove everything except the given i.e., a-zA-Z\n",
        "  stemmed_content = re.sub('[^a-zA-Z]',' ',content)\n",
        "  stemmed_content = stemmed_content.lower()\n",
        "  stemmed_content = stemmed_content.split()\n",
        "  stemmed_content = [pstem.stem(word) for word in stemmed_content if not word in stopwords.words('english')]\n",
        "  #As mentioned earlier stopwords are the words which don't have any influential meaning .\n",
        "  stemmed_content = ' '.join(stemmed_content)\n",
        "\n",
        "  return stemmed_content"
      ]
    },
    {
      "cell_type": "code",
      "execution_count": null,
      "metadata": {
        "id": "z7GGBtQUw9Qe"
      },
      "outputs": [],
      "source": [
        "#Applying the function\n",
        "t_data['stemmed_content'] = t_data['text'].apply(stemming)"
      ]
    },
    {
      "cell_type": "code",
      "execution_count": null,
      "metadata": {
        "colab": {
          "base_uri": "https://localhost:8080/",
          "height": 206
        },
        "id": "TsRTa7Us9WH3",
        "outputId": "17b51002-1ef3-484c-f9ad-bada4b79c266"
      },
      "outputs": [
        {
          "output_type": "execute_result",
          "data": {
            "text/plain": [
              "                                                text     id  \\\n",
              "0                                            ï»¿text  label   \n",
              "1  I grew up (b. 1965) watching and loving the Th...      0   \n",
              "2  When I put this movie in my DVD player, and sa...      0   \n",
              "3  Why do people who do not know what a particula...      0   \n",
              "4  Even though I have great interest in Biblical ...      0   \n",
              "\n",
              "                                     stemmed_content  \n",
              "0                                               text  \n",
              "1  grew b watch love thunderbird mate school watc...  \n",
              "2  put movi dvd player sat coke chip expect hope ...  \n",
              "3  peopl know particular time past like feel need...  \n",
              "4  even though great interest biblic movi bore de...  "
            ],
            "text/html": [
              "\n",
              "  <div id=\"df-17ff4302-faa2-4e18-b227-3a7b8bce49c7\" class=\"colab-df-container\">\n",
              "    <div>\n",
              "<style scoped>\n",
              "    .dataframe tbody tr th:only-of-type {\n",
              "        vertical-align: middle;\n",
              "    }\n",
              "\n",
              "    .dataframe tbody tr th {\n",
              "        vertical-align: top;\n",
              "    }\n",
              "\n",
              "    .dataframe thead th {\n",
              "        text-align: right;\n",
              "    }\n",
              "</style>\n",
              "<table border=\"1\" class=\"dataframe\">\n",
              "  <thead>\n",
              "    <tr style=\"text-align: right;\">\n",
              "      <th></th>\n",
              "      <th>text</th>\n",
              "      <th>id</th>\n",
              "      <th>stemmed_content</th>\n",
              "    </tr>\n",
              "  </thead>\n",
              "  <tbody>\n",
              "    <tr>\n",
              "      <th>0</th>\n",
              "      <td>ï»¿text</td>\n",
              "      <td>label</td>\n",
              "      <td>text</td>\n",
              "    </tr>\n",
              "    <tr>\n",
              "      <th>1</th>\n",
              "      <td>I grew up (b. 1965) watching and loving the Th...</td>\n",
              "      <td>0</td>\n",
              "      <td>grew b watch love thunderbird mate school watc...</td>\n",
              "    </tr>\n",
              "    <tr>\n",
              "      <th>2</th>\n",
              "      <td>When I put this movie in my DVD player, and sa...</td>\n",
              "      <td>0</td>\n",
              "      <td>put movi dvd player sat coke chip expect hope ...</td>\n",
              "    </tr>\n",
              "    <tr>\n",
              "      <th>3</th>\n",
              "      <td>Why do people who do not know what a particula...</td>\n",
              "      <td>0</td>\n",
              "      <td>peopl know particular time past like feel need...</td>\n",
              "    </tr>\n",
              "    <tr>\n",
              "      <th>4</th>\n",
              "      <td>Even though I have great interest in Biblical ...</td>\n",
              "      <td>0</td>\n",
              "      <td>even though great interest biblic movi bore de...</td>\n",
              "    </tr>\n",
              "  </tbody>\n",
              "</table>\n",
              "</div>\n",
              "    <div class=\"colab-df-buttons\">\n",
              "\n",
              "  <div class=\"colab-df-container\">\n",
              "    <button class=\"colab-df-convert\" onclick=\"convertToInteractive('df-17ff4302-faa2-4e18-b227-3a7b8bce49c7')\"\n",
              "            title=\"Convert this dataframe to an interactive table.\"\n",
              "            style=\"display:none;\">\n",
              "\n",
              "  <svg xmlns=\"http://www.w3.org/2000/svg\" height=\"24px\" viewBox=\"0 -960 960 960\">\n",
              "    <path d=\"M120-120v-720h720v720H120Zm60-500h600v-160H180v160Zm220 220h160v-160H400v160Zm0 220h160v-160H400v160ZM180-400h160v-160H180v160Zm440 0h160v-160H620v160ZM180-180h160v-160H180v160Zm440 0h160v-160H620v160Z\"/>\n",
              "  </svg>\n",
              "    </button>\n",
              "\n",
              "  <style>\n",
              "    .colab-df-container {\n",
              "      display:flex;\n",
              "      gap: 12px;\n",
              "    }\n",
              "\n",
              "    .colab-df-convert {\n",
              "      background-color: #E8F0FE;\n",
              "      border: none;\n",
              "      border-radius: 50%;\n",
              "      cursor: pointer;\n",
              "      display: none;\n",
              "      fill: #1967D2;\n",
              "      height: 32px;\n",
              "      padding: 0 0 0 0;\n",
              "      width: 32px;\n",
              "    }\n",
              "\n",
              "    .colab-df-convert:hover {\n",
              "      background-color: #E2EBFA;\n",
              "      box-shadow: 0px 1px 2px rgba(60, 64, 67, 0.3), 0px 1px 3px 1px rgba(60, 64, 67, 0.15);\n",
              "      fill: #174EA6;\n",
              "    }\n",
              "\n",
              "    .colab-df-buttons div {\n",
              "      margin-bottom: 4px;\n",
              "    }\n",
              "\n",
              "    [theme=dark] .colab-df-convert {\n",
              "      background-color: #3B4455;\n",
              "      fill: #D2E3FC;\n",
              "    }\n",
              "\n",
              "    [theme=dark] .colab-df-convert:hover {\n",
              "      background-color: #434B5C;\n",
              "      box-shadow: 0px 1px 3px 1px rgba(0, 0, 0, 0.15);\n",
              "      filter: drop-shadow(0px 1px 2px rgba(0, 0, 0, 0.3));\n",
              "      fill: #FFFFFF;\n",
              "    }\n",
              "  </style>\n",
              "\n",
              "    <script>\n",
              "      const buttonEl =\n",
              "        document.querySelector('#df-17ff4302-faa2-4e18-b227-3a7b8bce49c7 button.colab-df-convert');\n",
              "      buttonEl.style.display =\n",
              "        google.colab.kernel.accessAllowed ? 'block' : 'none';\n",
              "\n",
              "      async function convertToInteractive(key) {\n",
              "        const element = document.querySelector('#df-17ff4302-faa2-4e18-b227-3a7b8bce49c7');\n",
              "        const dataTable =\n",
              "          await google.colab.kernel.invokeFunction('convertToInteractive',\n",
              "                                                    [key], {});\n",
              "        if (!dataTable) return;\n",
              "\n",
              "        const docLinkHtml = 'Like what you see? Visit the ' +\n",
              "          '<a target=\"_blank\" href=https://colab.research.google.com/notebooks/data_table.ipynb>data table notebook</a>'\n",
              "          + ' to learn more about interactive tables.';\n",
              "        element.innerHTML = '';\n",
              "        dataTable['output_type'] = 'display_data';\n",
              "        await google.colab.output.renderOutput(dataTable, element);\n",
              "        const docLink = document.createElement('div');\n",
              "        docLink.innerHTML = docLinkHtml;\n",
              "        element.appendChild(docLink);\n",
              "      }\n",
              "    </script>\n",
              "  </div>\n",
              "\n",
              "\n",
              "<div id=\"df-6521d36a-4b8a-4805-8815-ebf043de5543\">\n",
              "  <button class=\"colab-df-quickchart\" onclick=\"quickchart('df-6521d36a-4b8a-4805-8815-ebf043de5543')\"\n",
              "            title=\"Suggest charts\"\n",
              "            style=\"display:none;\">\n",
              "\n",
              "<svg xmlns=\"http://www.w3.org/2000/svg\" height=\"24px\"viewBox=\"0 0 24 24\"\n",
              "     width=\"24px\">\n",
              "    <g>\n",
              "        <path d=\"M19 3H5c-1.1 0-2 .9-2 2v14c0 1.1.9 2 2 2h14c1.1 0 2-.9 2-2V5c0-1.1-.9-2-2-2zM9 17H7v-7h2v7zm4 0h-2V7h2v10zm4 0h-2v-4h2v4z\"/>\n",
              "    </g>\n",
              "</svg>\n",
              "  </button>\n",
              "\n",
              "<style>\n",
              "  .colab-df-quickchart {\n",
              "      --bg-color: #E8F0FE;\n",
              "      --fill-color: #1967D2;\n",
              "      --hover-bg-color: #E2EBFA;\n",
              "      --hover-fill-color: #174EA6;\n",
              "      --disabled-fill-color: #AAA;\n",
              "      --disabled-bg-color: #DDD;\n",
              "  }\n",
              "\n",
              "  [theme=dark] .colab-df-quickchart {\n",
              "      --bg-color: #3B4455;\n",
              "      --fill-color: #D2E3FC;\n",
              "      --hover-bg-color: #434B5C;\n",
              "      --hover-fill-color: #FFFFFF;\n",
              "      --disabled-bg-color: #3B4455;\n",
              "      --disabled-fill-color: #666;\n",
              "  }\n",
              "\n",
              "  .colab-df-quickchart {\n",
              "    background-color: var(--bg-color);\n",
              "    border: none;\n",
              "    border-radius: 50%;\n",
              "    cursor: pointer;\n",
              "    display: none;\n",
              "    fill: var(--fill-color);\n",
              "    height: 32px;\n",
              "    padding: 0;\n",
              "    width: 32px;\n",
              "  }\n",
              "\n",
              "  .colab-df-quickchart:hover {\n",
              "    background-color: var(--hover-bg-color);\n",
              "    box-shadow: 0 1px 2px rgba(60, 64, 67, 0.3), 0 1px 3px 1px rgba(60, 64, 67, 0.15);\n",
              "    fill: var(--button-hover-fill-color);\n",
              "  }\n",
              "\n",
              "  .colab-df-quickchart-complete:disabled,\n",
              "  .colab-df-quickchart-complete:disabled:hover {\n",
              "    background-color: var(--disabled-bg-color);\n",
              "    fill: var(--disabled-fill-color);\n",
              "    box-shadow: none;\n",
              "  }\n",
              "\n",
              "  .colab-df-spinner {\n",
              "    border: 2px solid var(--fill-color);\n",
              "    border-color: transparent;\n",
              "    border-bottom-color: var(--fill-color);\n",
              "    animation:\n",
              "      spin 1s steps(1) infinite;\n",
              "  }\n",
              "\n",
              "  @keyframes spin {\n",
              "    0% {\n",
              "      border-color: transparent;\n",
              "      border-bottom-color: var(--fill-color);\n",
              "      border-left-color: var(--fill-color);\n",
              "    }\n",
              "    20% {\n",
              "      border-color: transparent;\n",
              "      border-left-color: var(--fill-color);\n",
              "      border-top-color: var(--fill-color);\n",
              "    }\n",
              "    30% {\n",
              "      border-color: transparent;\n",
              "      border-left-color: var(--fill-color);\n",
              "      border-top-color: var(--fill-color);\n",
              "      border-right-color: var(--fill-color);\n",
              "    }\n",
              "    40% {\n",
              "      border-color: transparent;\n",
              "      border-right-color: var(--fill-color);\n",
              "      border-top-color: var(--fill-color);\n",
              "    }\n",
              "    60% {\n",
              "      border-color: transparent;\n",
              "      border-right-color: var(--fill-color);\n",
              "    }\n",
              "    80% {\n",
              "      border-color: transparent;\n",
              "      border-right-color: var(--fill-color);\n",
              "      border-bottom-color: var(--fill-color);\n",
              "    }\n",
              "    90% {\n",
              "      border-color: transparent;\n",
              "      border-bottom-color: var(--fill-color);\n",
              "    }\n",
              "  }\n",
              "</style>\n",
              "\n",
              "  <script>\n",
              "    async function quickchart(key) {\n",
              "      const quickchartButtonEl =\n",
              "        document.querySelector('#' + key + ' button');\n",
              "      quickchartButtonEl.disabled = true;  // To prevent multiple clicks.\n",
              "      quickchartButtonEl.classList.add('colab-df-spinner');\n",
              "      try {\n",
              "        const charts = await google.colab.kernel.invokeFunction(\n",
              "            'suggestCharts', [key], {});\n",
              "      } catch (error) {\n",
              "        console.error('Error during call to suggestCharts:', error);\n",
              "      }\n",
              "      quickchartButtonEl.classList.remove('colab-df-spinner');\n",
              "      quickchartButtonEl.classList.add('colab-df-quickchart-complete');\n",
              "    }\n",
              "    (() => {\n",
              "      let quickchartButtonEl =\n",
              "        document.querySelector('#df-6521d36a-4b8a-4805-8815-ebf043de5543 button');\n",
              "      quickchartButtonEl.style.display =\n",
              "        google.colab.kernel.accessAllowed ? 'block' : 'none';\n",
              "    })();\n",
              "  </script>\n",
              "</div>\n",
              "\n",
              "    </div>\n",
              "  </div>\n"
            ],
            "application/vnd.google.colaboratory.intrinsic+json": {
              "type": "dataframe",
              "variable_name": "t_data",
              "summary": "{\n  \"name\": \"t_data\",\n  \"rows\": 40001,\n  \"fields\": [\n    {\n      \"column\": \"text\",\n      \"properties\": {\n        \"dtype\": \"string\",\n        \"num_unique_values\": 39724,\n        \"samples\": [\n          \"The traditional Western is synonymous with wide open spaces, clearcut morality, inevitable storylines, the optimistic faith in a hero's ability to shape his own destiny, to escape his past. These qualities reflect directly the American sense of self, the self-shaping Dream, the pushing of boundaries and frontiers, which is why the genre is still alluded to by opportunistic politicians. With some noble exceptions (eg Wellman, Hawks), the Western was healthily free of neuroses or real anxiety. Anthony Mann changed all that forever, and this first foray into the genre is one of the most violent, vivid, complex, not to say exciting Westerns ever made.<br /><br />The traditional Western depends on a hero who exemplifies rugged wholesomeness, whatever misfortunes he may have had in the past, a supporter of order and right, who dominates the film, removes its obstacles, restores harmony in effect; and an obvious villain, who often, ironically, drives the plot, forces the hero into certain actions. The difference between the two is often delineated as mythically simple as the wearing of white or black hats.<br /><br />Mann's background was in film noir, a genre antithetical to wide open spaces and optimism. Noir was neurotically charged, focusing on the dissolution of an unstable protagonist, where morality is blurred, the hero is as often the villain, trapped in an interior-labyrinth of his own making, a passive victim to destiny. Noir is about regress not progress, the interrogating and denying of modes and signs of representation, not the creation and confirmation of them.<br /><br />WINCHESTER 73 is fraught with noir anxiety. Noir is often considered a psychological genre, visualising the traumas of its protagonist's head. 73 does this too, and is all the more disturbing in that that protagonist is lovely, homespun Jimmy Stewart, initiating here his great run of difficult films with Mann and Hitchcock. In many ways, good-natured and sweet, representing right and trying to restore disruptions to the natural order, he is also a near-lunatic who will stop at nothing to achieve murderous revenge, whose relentless quest mirrors Ethan Edwards in THE SEARCHERS in its inhuman persistance, whose human instincts are frayed by this quest, and whose bursts of violence are genuinely terrifying to witness.<br /><br />As in noir, his anxiety has a psychological base - unlike most 'healthy' heroes who have outgrown (symbolically killed) their fathers, McAdam's father was killed before he could complete the process; his chasing his brother is less moral revenge than an anguished protest against stunted growth. The climactic shoot-out is not cathartic: McAdam staggers back into 'normal' society, like he's just witnessed some of the world's most ghastly horrors.<br /><br />What is most unsettling about the film is that it's not really about a hero or a villain at all, but an inanimate piece of weoponry that drives the action. 73 opens with the gun of the title privileged, on display behind a glass window, while its admirers are trapped, squashed, undifferentiated, framed, admiring it outside. Throughout the film, human power is reduced to the most arbitrary of signifiers - names change; Lin and Dutch mime shooting each other because they've no guns; quests lose their moral vitality and their practitioners veer close to madness; armies have to ask for help from Confederate strangers to fight battles; a man becomes worthy of respect only when he mentions his name; another man is revealed as a coward when he abandons his fiancee to the Indians; the gun retains its prestige, power, wholeness.<br /><br />It's not the revenge plot which drives the film, but the story of the gun; this wrenches the film out of conventional expectations, and creates an eerie, alienating, modern feel. We become so caught up in the revenge plot that when we follow, with the gun, another plot entirely, we feel slightly bewildered.<br /><br />This emphasis on the gun, symbol of potent masculinity, actually allows for a critique of that masculinity, revealing pointless elaborate rituals at the expense of society and order; brute capitalist greed; murderous Indian-traders who defraud both seller and enemy; cowards; psychotic killers; before returning to its 'true' owner, a broken hero thoroughly compromised, who has become as murderous as the murderer he seeks. The gun is never imprinted with the name of its owner, not only because there is no fixed owner, but because there is no fixed masculinity, an insight anathema to the traditional Western.<br /><br />73 brilliantly invokes Western myths - Wyatt Earp, Dodge City, the Cavalry, the Civil War, the wide open West - only to undermine them. Earp has an inflated reputation that is all name but never proven - Dodge City is no safer against outlaws than anywhere else; the Cavalry is inept (Custer has just lost Little Big Horn) and the bitter feud of the War is shown to be irrelevant. The myth of the open West is a site for a very closed, inescapable, circular plot which traps its characters, refuses to allow them shape their destiny, but allowing it to shape them.<br /><br />The old John Ford silhouette of riders on a vast mountain is reprised, but signals here not progress but repetition and circularity. But for all its deconstruction, the film is also tangibly vivid in a way few Westerns ever achieve. Mann's incisive technique intrudes his camera in crucial positions, alternating revealing distance with intense examination, making the saloon doors and stagecoaches seem thrillingly alive and lived in.\",\n          \"Although I saw this movie in Korea, in Korean, and therefore did not understand the language, images sure say more than enough. From what I can make of it, this is the story: Two superb sword fighters become friends in their service as the king's guard. One of them finds himself opposed to the ways of the king and starts assassinating important men. The other has to hunt him down. This movie is visually great. The swordfighting is great. And the movie has a gripping end. I just hope this movie will be marketed for the western cinema goers. And be released on DVD, of course.\",\n          \"First and foremost I'd like to state - for the record - that it's incredibly dumb to call your movie \\\"Embryo\\\" when the subject matter exclusively revolves on scientific research performed on fetuses (animal as well as human) aged 12-16 weeks. The embryonic stage is over at the end of the eighth pregnancy week and from that moment on the unborn critter enters the fetal phase. Okay, in all honestly, I didn't know all this, but I took the effort of looking it up and that's the also the least thing the creators of \\\"Embryo\\\" could have done. Don't worry; I'm not just stumbling over details or being exaggeratedly bitter, as there are several more reasons to state why \\\"Embryo\\\" is a huge failure. Actual science can be considered as boring and inaccessible, and thus Science Fiction is a cinematic genre created especially to make the otherwise tedious, yet educational science topics more interesting and comprehensible to larger audiences. By depicting ambitious scientific experiments that go horribly wrong, or space missions that encounter evil aliens instead of light-years of void, filmmakers usually manage to entertain people with spectacular special effects and, at the same time, teach them useful little trivia about science. In order to make a good or at least halfway-decent Science Fiction movie, writers and directors only have to comply with one basic rule: DON'T be boring! If they can't fulfill this one condition, the viewer might as well read a theoretically accurate book. Something must have gone wrong during the production of Ralph Nelson's \\\"Embryo\\\". The basic premise is potentially fascinating and even involving, as we're all sensitive about saving the lives of unborn babies. There also were some very prominent names involved in the production, like main stars Rock Hudson (\\\"Giant\\\", \\\"Seconds\\\"), Diane Ladd (\\\"Chinatown\\\", \\\"Alice Doesn't Live Here Anymore\\\") and director Nelson himself was responsible for the acclaimed classics \\\"Soldier Blue\\\" and \\\"Charly\\\". Then what went wrong? Simple. The script is irredeemably boring, clich\\u00c3\\u00a9d and the whole thing looks incredibly foolish because the lab scenery & scientific equipment is clearly too primitive to achieve any medical breakthroughs with. <br /><br />Rock Hudson, in a very poor performance, plays a doctor who hasn't put any passion in his research work ever since his wife passed away. When his car hits a pregnant dog on a rainy night, his passion returns and he does everything possible to save the dying animals' fetuses. He manages to keep one fetus alive, impressively accelerates its growth process and trains it to become an extremely intelligent dog. Because his procedure is so successful, Dr. Paul Holliston convinces his friend at the hospital to repeat his tests with the human fetus taken from the womb of a pregnant teenager who committed suicide. The female subject unexpectedly keeps growing at a fast rate, however, and after only a couple of weeks she's a full-grown, ravishing and super-intelligent woman. The good doctor naturally falls in love with her, but the groundbreaking new growth treatment also begins to show horrible side effects... Absolute nothing happens during the first 45 minutes of the film, apart from a lot of implausible and overly melodramatic mumbo-jumbo and one or two deeply impressive tricks performed by the dog. That second half of the film does contain a little bit of (grotesque) action and suspense, but by then the stupidity of the dialogs and the implausible plot-twists already ruined the potentially fabulous Sci-Fi idea. There are some really cool scenes, most notably the chess-showdown between Victoria and Roddy McDowall (in a highly memorable and ultra-obnoxious supportive role). The grand finale is absurdly grotesque and literally on the verge of ridiculous, and it almost feels like Ralph Nelson put in that final disastrous shot because it was the general rule in contemporary thriller & Sci-Fi cinema. The last sequence, including the horrible freeze-frame shot at the end, certainly doesn't fit the tone of the previous 100 minutes of the film. But anyway, my sincere admiration and respect to the dog and his trainers. An animal with such intellect and talent surely deserved to demonstrate its tricks in a much better film.\"\n        ],\n        \"semantic_type\": \"\",\n        \"description\": \"\"\n      }\n    },\n    {\n      \"column\": \"id\",\n      \"properties\": {\n        \"dtype\": \"category\",\n        \"num_unique_values\": 3,\n        \"samples\": [\n          \"label\",\n          \"0\",\n          \"1\"\n        ],\n        \"semantic_type\": \"\",\n        \"description\": \"\"\n      }\n    },\n    {\n      \"column\": \"stemmed_content\",\n      \"properties\": {\n        \"dtype\": \"string\",\n        \"num_unique_values\": 39720,\n        \"samples\": [\n          \"alway bit distrust watch british period film usual find insipid bore screenplay one exampl vaniti fair boleyn girl magnific product design european landscap thick british accent make movi suggest artist valu realli fortun excel film young victoria fall situat deserv enthusiast recommend fascin stori excel perform emili blunt paul bettani jim broadbent costum locat unexpectedli make movi pretti rich view say unexpectedli usual pay much attent detail br br victorian era humbl opinion one key point contemporari civil social aspect also scientif artist cultur one honestli know origin era much mayb enjoy simplif polit econom event prepar land modern era much also like way queen victoria portray young intellig monarch whose decis alway good least inspir good intent also found depict romanc victoria princ albert interest equal interest combin intellect well emot evok fail found movi screenwrit julian fellow use clich romant cinema love stori someth feel bit place screenplay br br like young victoria much realli took nice surpris hope period film follow exampl movi costum landscap work support interest stori replac\",\n          \"roll wonder littl film tobi malon play year old kid well act way soccer malon cousin take night big game adventur mani twist turn involv two gym bag drug lord tough biker cop prostitut movi keep us guess charact side law content either gym bag even gender key biker part remind lock stock two smoke barrel br br roll reinforc three opinion alreadi held see roll opinion realli want visit australia one day countri citi beauti look like cool place vacat br br best filmmak australian cinematographi roll especi impress love styliz color light mani scene br br australian women hot\",\n          \"may worst movi ever produc worst plot worst act worst special effect prepar want watch way get enjoy light match burn tape know never fall hand sane person\"\n        ],\n        \"semantic_type\": \"\",\n        \"description\": \"\"\n      }\n    }\n  ]\n}"
            }
          },
          "metadata": {},
          "execution_count": 21
        }
      ],
      "source": [
        "t_data.head()\n"
      ]
    },
    {
      "cell_type": "code",
      "execution_count": null,
      "metadata": {
        "colab": {
          "base_uri": "https://localhost:8080/"
        },
        "id": "GFG4UeDwUWwi",
        "outputId": "0f5781b7-d677-4df1-be30-a4fa3ccd4e2e"
      },
      "outputs": [
        {
          "output_type": "stream",
          "name": "stdout",
          "text": [
            "0                                                     text\n",
            "1        grew b watch love thunderbird mate school watc...\n",
            "2        put movi dvd player sat coke chip expect hope ...\n",
            "3        peopl know particular time past like feel need...\n",
            "4        even though great interest biblic movi bore de...\n",
            "                               ...                        \n",
            "39996    western union someth forgotten classic western...\n",
            "39997    movi incred piec work explor everi nook cranni...\n",
            "39998    wife watch movi plan visit sicili stromboli so...\n",
            "39999    first watch flatlin amaz necessari featur good...\n",
            "40000    would film good gross estim award nomin john t...\n",
            "Name: stemmed_content, Length: 40001, dtype: object\n"
          ]
        }
      ],
      "source": [
        "print(t_data['stemmed_content'])"
      ]
    },
    {
      "cell_type": "code",
      "source": [
        "t_data['id'].value_counts()"
      ],
      "metadata": {
        "colab": {
          "base_uri": "https://localhost:8080/"
        },
        "id": "aTA8pD-p3JPu",
        "outputId": "697ba273-c4ab-4cd5-f311-38cd29e6b322"
      },
      "execution_count": null,
      "outputs": [
        {
          "output_type": "execute_result",
          "data": {
            "text/plain": [
              "0        20019\n",
              "1        19981\n",
              "label        1\n",
              "Name: id, dtype: int64"
            ]
          },
          "metadata": {},
          "execution_count": 33
        }
      ]
    },
    {
      "cell_type": "code",
      "source": [
        "t_data = t_data.drop(t_data.index[0])"
      ],
      "metadata": {
        "id": "2EN5CtU04oT1"
      },
      "execution_count": null,
      "outputs": []
    },
    {
      "cell_type": "code",
      "source": [
        "# t_data = t_data.drop(label= \"label\", axis = 0)"
      ],
      "metadata": {
        "colab": {
          "base_uri": "https://localhost:8080/",
          "height": 263
        },
        "id": "Gsc0UMjo3RTb",
        "outputId": "a9234526-5d59-4ea6-f9af-7858514d2882"
      },
      "execution_count": null,
      "outputs": [
        {
          "output_type": "error",
          "ename": "TypeError",
          "evalue": "DataFrame.drop() got an unexpected keyword argument 'id'",
          "traceback": [
            "\u001b[0;31m---------------------------------------------------------------------------\u001b[0m",
            "\u001b[0;31mTypeError\u001b[0m                                 Traceback (most recent call last)",
            "\u001b[0;32m<ipython-input-39-82688948366c>\u001b[0m in \u001b[0;36m<cell line: 1>\u001b[0;34m()\u001b[0m\n\u001b[0;32m----> 1\u001b[0;31m \u001b[0mt_data\u001b[0m \u001b[0;34m=\u001b[0m \u001b[0mt_data\u001b[0m\u001b[0;34m.\u001b[0m\u001b[0mdrop\u001b[0m\u001b[0;34m(\u001b[0m\u001b[0mid\u001b[0m\u001b[0;34m=\u001b[0m \u001b[0;34m\"label\"\u001b[0m\u001b[0;34m,\u001b[0m \u001b[0maxis\u001b[0m \u001b[0;34m=\u001b[0m \u001b[0;36m0\u001b[0m\u001b[0;34m)\u001b[0m\u001b[0;34m\u001b[0m\u001b[0;34m\u001b[0m\u001b[0m\n\u001b[0m",
            "\u001b[0;32m/usr/local/lib/python3.10/dist-packages/pandas/util/_decorators.py\u001b[0m in \u001b[0;36mwrapper\u001b[0;34m(*args, **kwargs)\u001b[0m\n\u001b[1;32m    329\u001b[0m                     \u001b[0mstacklevel\u001b[0m\u001b[0;34m=\u001b[0m\u001b[0mfind_stack_level\u001b[0m\u001b[0;34m(\u001b[0m\u001b[0;34m)\u001b[0m\u001b[0;34m,\u001b[0m\u001b[0;34m\u001b[0m\u001b[0;34m\u001b[0m\u001b[0m\n\u001b[1;32m    330\u001b[0m                 )\n\u001b[0;32m--> 331\u001b[0;31m             \u001b[0;32mreturn\u001b[0m \u001b[0mfunc\u001b[0m\u001b[0;34m(\u001b[0m\u001b[0;34m*\u001b[0m\u001b[0margs\u001b[0m\u001b[0;34m,\u001b[0m \u001b[0;34m**\u001b[0m\u001b[0mkwargs\u001b[0m\u001b[0;34m)\u001b[0m\u001b[0;34m\u001b[0m\u001b[0;34m\u001b[0m\u001b[0m\n\u001b[0m\u001b[1;32m    332\u001b[0m \u001b[0;34m\u001b[0m\u001b[0m\n\u001b[1;32m    333\u001b[0m         \u001b[0;31m# error: \"Callable[[VarArg(Any), KwArg(Any)], Any]\" has no\u001b[0m\u001b[0;34m\u001b[0m\u001b[0;34m\u001b[0m\u001b[0m\n",
            "\u001b[0;31mTypeError\u001b[0m: DataFrame.drop() got an unexpected keyword argument 'id'"
          ]
        }
      ]
    },
    {
      "cell_type": "code",
      "execution_count": null,
      "metadata": {
        "id": "jhgRu-qTVnDy"
      },
      "outputs": [],
      "source": [
        "#seperating data and label\n",
        "X = t_data['stemmed_content'].values\n",
        "Y = t_data['id'].values"
      ]
    },
    {
      "cell_type": "code",
      "execution_count": null,
      "metadata": {
        "colab": {
          "base_uri": "https://localhost:8080/"
        },
        "id": "No6fRUjJYDQt",
        "outputId": "0dc0099e-3b90-46f8-8382-2c1a5790cd33"
      },
      "outputs": [
        {
          "output_type": "stream",
          "name": "stdout",
          "text": [
            "['grew b watch love thunderbird mate school watch play thunderbird school lunch school want virgil scott one want alan count becam art form took children see movi hope would get glimps love child bitterli disappoint high point snappi theme tune could compar origin score thunderbird thank earli saturday morn one televis channel still play rerun seri gerri anderson wife creat jonatha frake hand director chair version complet hopeless wast film utter rubbish cgi remak may accept replac marionett homo sapien subsp sapien huge error judgment'\n",
            " 'put movi dvd player sat coke chip expect hope movi would contain strong point first movi awsom anim good flow stori excel voic cast funni comedi kick ass soundtrack disappoint found atlanti milo return read review first might let follow paragraph direct seen first movi enjoy primarili point mention br br first scene appear shock pick atlanti milo return display case local videoshop whatev expect music feel bad imit first movi voic cast replac fit one except charact like voic sweet actual draw isnt bad anim particular sad sight storylin also pretti weak like three episod schoobi doo singl adventur stori got last time dont misunderstand good schoobi doo episod didnt laugh singl time although might snigger twice br br audienc seen first movi especi care similar sequel fast review movi stand alon product like schoobi doo might like movi could still enjoy movi noth els suspect might good kid movi know might better milo return three episod seri cartoon channel breakfast tv'\n",
            " 'peopl know particular time past like feel need tri defin time other replac woodstock civil war apollo moon land titan sink got realist flick formula soap opera popul entir low life trash kid young allow go woodstock fail grade school composit show old meani put movi prove know nuttin topic still make money yeah alreadi know one thing watch film give littl insight underclass think next time see slut bar look like dian lane run way child abus let parent worthless rais kid audienc abus simpli stick woodstock moonland flick ipso facto mean film portray'\n",
            " ...\n",
            " 'wife watch movi plan visit sicili stromboli soon fortun unfortun landscap seascap complet tuna believ member cast expect reason well written well act movi disappoint redeem grace extend remark fish sequenc full authent thrash tuna net wooden boat long oar passion superstiti fishermen br br movi sequenc stagi dialogu stilt act rang stiff complet top one scene bergman stress macho nativ na husband sic ferret innoc appar alreadi deceas rabbit would perfect grist monti python skit br br volcano blew hope merci end suffer cast unfortun movi continu flail stagger final melodramat absurd end unless realli old time tuna fish pass hokey effort'\n",
            " 'first watch flatlin amaz necessari featur good movi cast superb plot superb case thriller genuin thrill throughout br br keifer sutherland offer marvel perform male lead piec portray scientist believ find answer life death kill come back life essenti steal death secret away kevin bacon offer excel perform moral decent counterpart keifer julia robert offer convinc role william baldwin portray student excel class appar intercours oliv platt anoth outstand perform portray voic reason group innoc br br stori rel simpl yet origin act refresh definit stand film genr one set standard measur thriller br br'\n",
            " 'would film good gross estim award nomin john travolta know know michael cigar smoke woman magic arch angel came live die ladi car staff nation mirror dog sparki way chicago turn road trip horribl great even think death scene exact make tearjerk soundtrack best heaven home around bend chain fool great expect say littl respect read comment bye']\n"
          ]
        }
      ],
      "source": [
        "print(X)"
      ]
    },
    {
      "cell_type": "code",
      "execution_count": null,
      "metadata": {
        "id": "s8Kg00LCVTQS",
        "colab": {
          "base_uri": "https://localhost:8080/"
        },
        "outputId": "6da51683-ba46-480f-883e-fa5807030b15"
      },
      "outputs": [
        {
          "output_type": "stream",
          "name": "stdout",
          "text": [
            "['0' '0' '0' ... '0' '1' '1']\n"
          ]
        }
      ],
      "source": [
        "print(Y)"
      ]
    },
    {
      "cell_type": "code",
      "source": [],
      "metadata": {
        "id": "-QPPXdHH2FM3"
      },
      "execution_count": null,
      "outputs": []
    },
    {
      "cell_type": "markdown",
      "metadata": {
        "id": "9FBntzgSYYQ1"
      },
      "source": [
        "Splitting data into training and testing data"
      ]
    },
    {
      "cell_type": "code",
      "source": [
        "t_data['id'].value_counts()"
      ],
      "metadata": {
        "colab": {
          "base_uri": "https://localhost:8080/"
        },
        "id": "7W8DNHlo16fn",
        "outputId": "5437fa25-2c68-4fdc-c25b-4f4f533f036d"
      },
      "execution_count": null,
      "outputs": [
        {
          "output_type": "execute_result",
          "data": {
            "text/plain": [
              "0    20019\n",
              "1    19981\n",
              "Name: id, dtype: int64"
            ]
          },
          "metadata": {},
          "execution_count": 44
        }
      ]
    },
    {
      "cell_type": "code",
      "execution_count": null,
      "metadata": {
        "id": "kYt9yF5EYTol"
      },
      "outputs": [],
      "source": [
        "#Splitting data into training and testing data\n",
        "# x_train will contain all the training data tweets.\n",
        "# y_train will contain all the training data targets(LABELS).\n",
        "# x_test will contain all the testing data tweets.\n",
        "# y_test will contain all the testing data targets(LABELS).\n",
        "#If we don't set stratify then there is the chance of unfair splitting\n",
        "#regarding the random state, each time you split data, it will be split differently.\n",
        "X_train, X_test, Y_train, Y_test = train_test_split(X,Y,test_size = 0.2, stratify = Y, random_state = 2)"
      ]
    },
    {
      "cell_type": "code",
      "execution_count": null,
      "metadata": {
        "colab": {
          "base_uri": "https://localhost:8080/"
        },
        "id": "3bB-Z6iKeI50",
        "outputId": "3469aa1f-f5ef-4043-ea47-98fd9609fc98"
      },
      "outputs": [
        {
          "output_type": "stream",
          "name": "stdout",
          "text": [
            "(40000,) (32000,) (8000,)\n"
          ]
        }
      ],
      "source": [
        "print(X.shape, X_train.shape, X_test.shape)"
      ]
    },
    {
      "cell_type": "code",
      "execution_count": null,
      "metadata": {
        "id": "LOzCqK-VerPr"
      },
      "outputs": [],
      "source": [
        "#Converting the text to numerical value using feature extraction.\n",
        "#Using method called Vectorizer.\n",
        "#Prioritize according to frequency.\n",
        "#Use the fit_transform method for training data alone not for test data.\n",
        "vectorizer = TfidfVectorizer()\n",
        "X_train = vectorizer.fit_transform(X_train)\n",
        "X_test = vectorizer.transform(X_test)"
      ]
    },
    {
      "cell_type": "code",
      "execution_count": null,
      "metadata": {
        "colab": {
          "base_uri": "https://localhost:8080/"
        },
        "id": "_ipMZpA5gHtJ",
        "outputId": "101ee623-a98d-4e0e-d303-fff07f9117b9"
      },
      "outputs": [
        {
          "output_type": "stream",
          "name": "stdout",
          "text": [
            "  (0, 16729)\t0.09965441813678852\n",
            "  (0, 15720)\t0.1194055633672808\n",
            "  (0, 55830)\t0.10357369639363999\n",
            "  (0, 6076)\t0.18620259348517748\n",
            "  (0, 50230)\t0.15502323258209308\n",
            "  (0, 3503)\t0.17049092369098562\n",
            "  (0, 15740)\t0.14413597143028065\n",
            "  (0, 39637)\t0.13228150228255167\n",
            "  (0, 14760)\t0.13537425709965595\n",
            "  (0, 10754)\t0.07403050814947817\n",
            "  (0, 11856)\t0.22533299437428794\n",
            "  (0, 25678)\t0.1566992216745792\n",
            "  (0, 7370)\t0.11644783833534952\n",
            "  (0, 4384)\t0.09226268074946864\n",
            "  (0, 43481)\t0.13561869666771623\n",
            "  (0, 16089)\t0.0630137275246874\n",
            "  (0, 23092)\t0.10357369639363999\n",
            "  (0, 43527)\t0.07086671305208773\n",
            "  (0, 51827)\t0.07975653544526332\n",
            "  (0, 35644)\t0.046946745223642075\n",
            "  (0, 33337)\t0.06870781286955946\n",
            "  (0, 39089)\t0.09539440645564308\n",
            "  (0, 9903)\t0.09943074371579685\n",
            "  (0, 2980)\t0.20916109043153844\n",
            "  (0, 35546)\t0.09095048276283013\n",
            "  :\t:\n",
            "  (31999, 33607)\t0.06847317973952394\n",
            "  (31999, 16143)\t0.22265046499951266\n",
            "  (31999, 37400)\t0.061250906513190664\n",
            "  (31999, 39248)\t0.1552890841699979\n",
            "  (31999, 29003)\t0.06445143915339442\n",
            "  (31999, 36000)\t0.0831352211479628\n",
            "  (31999, 45076)\t0.07971208781511625\n",
            "  (31999, 50112)\t0.1021321244597305\n",
            "  (31999, 17644)\t0.10258492189983179\n",
            "  (31999, 16674)\t0.06924986656333537\n",
            "  (31999, 52179)\t0.10521073050777005\n",
            "  (31999, 36884)\t0.1158778214993747\n",
            "  (31999, 8379)\t0.07915669223833377\n",
            "  (31999, 14622)\t0.07636888666831242\n",
            "  (31999, 22493)\t0.11300417463425122\n",
            "  (31999, 51292)\t0.05694789479748504\n",
            "  (31999, 4698)\t0.05779821977708349\n",
            "  (31999, 5055)\t0.06894312841503385\n",
            "  (31999, 36166)\t0.08447156588903745\n",
            "  (31999, 29253)\t0.04930108680159049\n",
            "  (31999, 51028)\t0.13074074677239766\n",
            "  (31999, 6076)\t0.19850625109252248\n",
            "  (31999, 54665)\t0.04313330022934492\n",
            "  (31999, 52572)\t0.08368399682070793\n",
            "  (31999, 24614)\t0.061698636195252024\n"
          ]
        }
      ],
      "source": [
        "print(X_train)"
      ]
    },
    {
      "cell_type": "code",
      "execution_count": null,
      "metadata": {
        "colab": {
          "base_uri": "https://localhost:8080/"
        },
        "id": "tlIdaLhIhF6d",
        "outputId": "b1a2c629-86e5-42a4-ff8e-6d3bd7fa27c2"
      },
      "outputs": [
        {
          "output_type": "stream",
          "name": "stdout",
          "text": [
            "  (0, 56464)\t0.14228986745285988\n",
            "  (0, 55856)\t0.08665342803765183\n",
            "  (0, 55843)\t0.03592415635747062\n",
            "  (0, 55189)\t0.05485207132367911\n",
            "  (0, 55149)\t0.17344894146412485\n",
            "  (0, 54442)\t0.11680137211116629\n",
            "  (0, 53097)\t0.16482578442575851\n",
            "  (0, 51827)\t0.08892770422408257\n",
            "  (0, 51028)\t0.1025544625724923\n",
            "  (0, 50923)\t0.06925381168375618\n",
            "  (0, 50637)\t0.06014239448366717\n",
            "  (0, 50418)\t0.03178876793957485\n",
            "  (0, 49182)\t0.061900451234796885\n",
            "  (0, 48807)\t0.08222197222865134\n",
            "  (0, 46980)\t0.22254211148163663\n",
            "  (0, 46442)\t0.07400868839237164\n",
            "  (0, 45669)\t0.13635798185398612\n",
            "  (0, 45293)\t0.06665833070144948\n",
            "  (0, 43868)\t0.05676735372593144\n",
            "  (0, 43527)\t0.039507822540474094\n",
            "  (0, 43360)\t0.06411231616605235\n",
            "  (0, 43300)\t0.08749680138052664\n",
            "  (0, 43199)\t0.3540666132379534\n",
            "  (0, 42198)\t0.3115705124558581\n",
            "  (0, 40668)\t0.03706182471813905\n",
            "  :\t:\n",
            "  (7999, 19369)\t0.07214224414339361\n",
            "  (7999, 18907)\t0.1345300440536637\n",
            "  (7999, 18122)\t0.07168999868507414\n",
            "  (7999, 18069)\t0.09215856317426259\n",
            "  (7999, 17954)\t0.3783757134603798\n",
            "  (7999, 17476)\t0.037128463556583495\n",
            "  (7999, 16902)\t0.08462850396701899\n",
            "  (7999, 16657)\t0.08701024081267895\n",
            "  (7999, 16100)\t0.08245877122326824\n",
            "  (7999, 12432)\t0.10764332101155163\n",
            "  (7999, 11764)\t0.10934500467644795\n",
            "  (7999, 9613)\t0.09666371447796444\n",
            "  (7999, 7998)\t0.10162626966049641\n",
            "  (7999, 7909)\t0.04582051766686004\n",
            "  (7999, 7375)\t0.08263480417936592\n",
            "  (7999, 6585)\t0.0717794038917806\n",
            "  (7999, 6388)\t0.11936718796232636\n",
            "  (7999, 6382)\t0.08132393255964065\n",
            "  (7999, 6076)\t0.047913943990144134\n",
            "  (7999, 5110)\t0.05861933120028935\n",
            "  (7999, 4664)\t0.04110866233684629\n",
            "  (7999, 4307)\t0.05195030951438146\n",
            "  (7999, 1264)\t0.05718461229706528\n",
            "  (7999, 696)\t0.060208192607357235\n",
            "  (7999, 641)\t0.1189916689534739\n"
          ]
        }
      ],
      "source": [
        "print(X_test)\n",
        "\n",
        "#The first element 0 means words are in 0th tweet and so on.\n",
        "#The second element in the output means,"
      ]
    },
    {
      "cell_type": "markdown",
      "metadata": {
        "id": "Tf-XEXNxh9GY"
      },
      "source": [
        "Training the Logistic Regression Model.\n",
        "(One of the model in the ML used for binary classification and predictive analytics)"
      ]
    },
    {
      "cell_type": "code",
      "execution_count": null,
      "metadata": {
        "id": "oPgONDXOh8NO"
      },
      "outputs": [],
      "source": [
        "model = LogisticRegression(max_iter = 1000)"
      ]
    },
    {
      "cell_type": "markdown",
      "metadata": {
        "id": "TsmRpUW5oOfz"
      },
      "source": [
        "Model Training phase"
      ]
    },
    {
      "cell_type": "code",
      "execution_count": null,
      "metadata": {
        "colab": {
          "base_uri": "https://localhost:8080/",
          "height": 52
        },
        "id": "Z72EJmqAir_E",
        "outputId": "c4d86e68-7446-4eaa-de20-294988f2d24d"
      },
      "outputs": [
        {
          "output_type": "execute_result",
          "data": {
            "text/plain": [
              "LogisticRegression(max_iter=1000)"
            ],
            "text/html": [
              "<style>#sk-container-id-2 {color: black;background-color: white;}#sk-container-id-2 pre{padding: 0;}#sk-container-id-2 div.sk-toggleable {background-color: white;}#sk-container-id-2 label.sk-toggleable__label {cursor: pointer;display: block;width: 100%;margin-bottom: 0;padding: 0.3em;box-sizing: border-box;text-align: center;}#sk-container-id-2 label.sk-toggleable__label-arrow:before {content: \"▸\";float: left;margin-right: 0.25em;color: #696969;}#sk-container-id-2 label.sk-toggleable__label-arrow:hover:before {color: black;}#sk-container-id-2 div.sk-estimator:hover label.sk-toggleable__label-arrow:before {color: black;}#sk-container-id-2 div.sk-toggleable__content {max-height: 0;max-width: 0;overflow: hidden;text-align: left;background-color: #f0f8ff;}#sk-container-id-2 div.sk-toggleable__content pre {margin: 0.2em;color: black;border-radius: 0.25em;background-color: #f0f8ff;}#sk-container-id-2 input.sk-toggleable__control:checked~div.sk-toggleable__content {max-height: 200px;max-width: 100%;overflow: auto;}#sk-container-id-2 input.sk-toggleable__control:checked~label.sk-toggleable__label-arrow:before {content: \"▾\";}#sk-container-id-2 div.sk-estimator input.sk-toggleable__control:checked~label.sk-toggleable__label {background-color: #d4ebff;}#sk-container-id-2 div.sk-label input.sk-toggleable__control:checked~label.sk-toggleable__label {background-color: #d4ebff;}#sk-container-id-2 input.sk-hidden--visually {border: 0;clip: rect(1px 1px 1px 1px);clip: rect(1px, 1px, 1px, 1px);height: 1px;margin: -1px;overflow: hidden;padding: 0;position: absolute;width: 1px;}#sk-container-id-2 div.sk-estimator {font-family: monospace;background-color: #f0f8ff;border: 1px dotted black;border-radius: 0.25em;box-sizing: border-box;margin-bottom: 0.5em;}#sk-container-id-2 div.sk-estimator:hover {background-color: #d4ebff;}#sk-container-id-2 div.sk-parallel-item::after {content: \"\";width: 100%;border-bottom: 1px solid gray;flex-grow: 1;}#sk-container-id-2 div.sk-label:hover label.sk-toggleable__label {background-color: #d4ebff;}#sk-container-id-2 div.sk-serial::before {content: \"\";position: absolute;border-left: 1px solid gray;box-sizing: border-box;top: 0;bottom: 0;left: 50%;z-index: 0;}#sk-container-id-2 div.sk-serial {display: flex;flex-direction: column;align-items: center;background-color: white;padding-right: 0.2em;padding-left: 0.2em;position: relative;}#sk-container-id-2 div.sk-item {position: relative;z-index: 1;}#sk-container-id-2 div.sk-parallel {display: flex;align-items: stretch;justify-content: center;background-color: white;position: relative;}#sk-container-id-2 div.sk-item::before, #sk-container-id-2 div.sk-parallel-item::before {content: \"\";position: absolute;border-left: 1px solid gray;box-sizing: border-box;top: 0;bottom: 0;left: 50%;z-index: -1;}#sk-container-id-2 div.sk-parallel-item {display: flex;flex-direction: column;z-index: 1;position: relative;background-color: white;}#sk-container-id-2 div.sk-parallel-item:first-child::after {align-self: flex-end;width: 50%;}#sk-container-id-2 div.sk-parallel-item:last-child::after {align-self: flex-start;width: 50%;}#sk-container-id-2 div.sk-parallel-item:only-child::after {width: 0;}#sk-container-id-2 div.sk-dashed-wrapped {border: 1px dashed gray;margin: 0 0.4em 0.5em 0.4em;box-sizing: border-box;padding-bottom: 0.4em;background-color: white;}#sk-container-id-2 div.sk-label label {font-family: monospace;font-weight: bold;display: inline-block;line-height: 1.2em;}#sk-container-id-2 div.sk-label-container {text-align: center;}#sk-container-id-2 div.sk-container {/* jupyter's `normalize.less` sets `[hidden] { display: none; }` but bootstrap.min.css set `[hidden] { display: none !important; }` so we also need the `!important` here to be able to override the default hidden behavior on the sphinx rendered scikit-learn.org. See: https://github.com/scikit-learn/scikit-learn/issues/21755 */display: inline-block !important;position: relative;}#sk-container-id-2 div.sk-text-repr-fallback {display: none;}</style><div id=\"sk-container-id-2\" class=\"sk-top-container\"><div class=\"sk-text-repr-fallback\"><pre>LogisticRegression(max_iter=1000)</pre><b>In a Jupyter environment, please rerun this cell to show the HTML representation or trust the notebook. <br />On GitHub, the HTML representation is unable to render, please try loading this page with nbviewer.org.</b></div><div class=\"sk-container\" hidden><div class=\"sk-item\"><div class=\"sk-estimator sk-toggleable\"><input class=\"sk-toggleable__control sk-hidden--visually\" id=\"sk-estimator-id-2\" type=\"checkbox\" checked><label for=\"sk-estimator-id-2\" class=\"sk-toggleable__label sk-toggleable__label-arrow\">LogisticRegression</label><div class=\"sk-toggleable__content\"><pre>LogisticRegression(max_iter=1000)</pre></div></div></div></div></div>"
            ]
          },
          "metadata": {},
          "execution_count": 78
        }
      ],
      "source": [
        "#Model will learn and train from here\n",
        "model.fit(X_train, Y_train)"
      ]
    },
    {
      "cell_type": "markdown",
      "metadata": {
        "id": "WJwJ6uR4oZJ7"
      },
      "source": [
        "Accuracy Score"
      ]
    },
    {
      "cell_type": "code",
      "execution_count": null,
      "metadata": {
        "id": "_iTBfxleoJwd"
      },
      "outputs": [],
      "source": [
        "#Accuracy score on the training data.\n",
        "X_train_prediction =model.predict(X_train)\n",
        "#In the above statement model will predict target on training data  given only training data without labels.\n",
        "#In the below statement we will calculate the accuracy by comparing the generated labels\n",
        "#with the actual labels.\n",
        "training_data_accuracy = accuracy_score(Y_train, X_train_prediction)"
      ]
    },
    {
      "cell_type": "code",
      "execution_count": null,
      "metadata": {
        "colab": {
          "base_uri": "https://localhost:8080/"
        },
        "id": "GWqb08fNpzCh",
        "outputId": "2c1de582-6be9-4a55-e062-e26dc0042001"
      },
      "outputs": [
        {
          "output_type": "stream",
          "name": "stdout",
          "text": [
            "Accuracy Score on the training data:  0.92578125\n"
          ]
        }
      ],
      "source": [
        "print(\"Accuracy Score on the training data: \", training_data_accuracy)\n"
      ]
    },
    {
      "cell_type": "code",
      "execution_count": null,
      "metadata": {
        "id": "tWkTYn1GqBiQ"
      },
      "outputs": [],
      "source": [
        "Y_test_prediction =model.predict(X_test)\n",
        "test_data_accuracy = accuracy_score(Y_test,Y_test_prediction)"
      ]
    },
    {
      "cell_type": "markdown",
      "metadata": {
        "id": "OZFkfwuUrlRW"
      },
      "source": [
        "Here as the accuracy of training and test data is close, we can say that model has performed pretty well.\n",
        "\n",
        "Overfitting: Training data accuracy is much more than test data accuracy.\n",
        "ex. training data accuracy = 80% and test data accuracy = 40-50%\n",
        "\n",
        "\n",
        "Underfitting: Model performs poorly in both training and testing data, shows that the model is too simple for the data, need to design more complex model."
      ]
    },
    {
      "cell_type": "code",
      "execution_count": null,
      "metadata": {
        "colab": {
          "base_uri": "https://localhost:8080/"
        },
        "id": "XFrzCvlVrLZw",
        "outputId": "380818d8-cad2-43aa-c8a7-4b3a3cedbe8f"
      },
      "outputs": [
        {
          "output_type": "stream",
          "name": "stdout",
          "text": [
            "Accuracy Score on Test Data: 89.912 %\n"
          ]
        }
      ],
      "source": [
        "print(f\"Accuracy Score on Test Data: {test_data_accuracy *100:.3f} %\")"
      ]
    },
    {
      "cell_type": "code",
      "execution_count": null,
      "metadata": {
        "id": "K-tE2Iios5-Z"
      },
      "outputs": [],
      "source": [
        "#Saving the model so that you can use it without training later.\n",
        "import pickle\n",
        "\n",
        "filename = \"modellr.sav\"\n",
        "#dumping the model, wb means write in binary format.\n",
        "pickle.dump(model, open(filename, 'wb'))\n"
      ]
    },
    {
      "cell_type": "code",
      "execution_count": null,
      "metadata": {
        "id": "jTxzbEFuwn5C"
      },
      "outputs": [],
      "source": [
        "#fetching the saved file.and using the already trained model directly for prediction.\n",
        "#Using the model for new predictions.\n",
        "#Load the model.\n",
        "load_model = pickle.load(open('/content/modellr.sav', 'rb'))"
      ]
    },
    {
      "cell_type": "code",
      "execution_count": null,
      "metadata": {
        "colab": {
          "base_uri": "https://localhost:8080/"
        },
        "id": "2B7BbvATxnTM",
        "outputId": "9c8fc2c5-667d-4319-e4e5-31888a8f87d0"
      },
      "outputs": [
        {
          "output_type": "stream",
          "name": "stdout",
          "text": [
            "1\n"
          ]
        }
      ],
      "source": [
        "#This is nothing but the 200th data point\n",
        "X_new = X_test[7999]\n",
        "print(Y_test[7999])"
      ]
    },
    {
      "cell_type": "code",
      "execution_count": null,
      "metadata": {
        "colab": {
          "base_uri": "https://localhost:8080/"
        },
        "id": "CdGzG8MxyIOL",
        "outputId": "b83e7492-0d07-41fa-ec60-bbf7eba7c49e"
      },
      "outputs": [
        {
          "output_type": "stream",
          "name": "stdout",
          "text": [
            "1\n",
            "It is a positive review\n"
          ]
        }
      ],
      "source": [
        "prediction = load_model.predict(X_new)\n",
        "print(*prediction)\n",
        "\n",
        "if (prediction[0]=='0'):\n",
        "  print(\"It is a negative review\")\n",
        "else:\n",
        "  print(\"It is a positive review\")"
      ]
    },
    {
      "cell_type": "code",
      "execution_count": null,
      "metadata": {
        "colab": {
          "base_uri": "https://localhost:8080/"
        },
        "id": "6AKKB_lJyybq",
        "outputId": "6a9c8bc7-a99e-4a85-d015-17173942df39"
      },
      "outputs": [
        {
          "output_type": "stream",
          "name": "stdout",
          "text": [
            "1\n",
            "['1']\n",
            "It is a positive tweet\n"
          ]
        }
      ],
      "source": [
        "X_new = X_test[2]\n",
        "print(Y_test[2])\n",
        "prediction = load_model.predict(X_new)\n",
        "\n",
        "if (prediction[0]==0):\n",
        "  print(\"It is a negative tweet\")\n",
        "else:\n",
        "  print(\"It is a positive tweet\")"
      ]
    },
    {
      "cell_type": "code",
      "execution_count": null,
      "metadata": {
        "id": "DuyMl52azPoq"
      },
      "outputs": [],
      "source": [
        "#Here our project is complete.\n"
      ]
    }
  ],
  "metadata": {
    "accelerator": "GPU",
    "colab": {
      "gpuType": "T4",
      "provenance": []
    },
    "kernelspec": {
      "display_name": "Python 3",
      "name": "python3"
    },
    "language_info": {
      "name": "python"
    }
  },
  "nbformat": 4,
  "nbformat_minor": 0
}